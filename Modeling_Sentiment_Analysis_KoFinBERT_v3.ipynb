{
  "cells": [
    {
      "cell_type": "markdown",
      "metadata": {
        "id": "view-in-github",
        "colab_type": "text"
      },
      "source": [
        "<a href=\"https://colab.research.google.com/github/Gayeon6423/BusinessAI-Capston/blob/main/Modeling_Sentiment_Analysis_KoFinBERT_v3.ipynb\" target=\"_parent\"><img src=\"https://colab.research.google.com/assets/colab-badge.svg\" alt=\"Open In Colab\"/></a>"
      ]
    },
    {
      "cell_type": "markdown",
      "metadata": {
        "id": "3TC6M25HiGm4"
      },
      "source": [
        "## Timeline\n",
        "\n",
        "### 1. Import library\n",
        "### 2. Load Data\n",
        "### 3. EDA\n",
        "### 4. Sentiment Analysis"
      ]
    },
    {
      "cell_type": "markdown",
      "metadata": {
        "id": "AxROIv4TiN5U"
      },
      "source": [
        "### 1. Import library"
      ]
    },
    {
      "cell_type": "code",
      "execution_count": null,
      "metadata": {
        "id": "6c0HwM7biQPW"
      },
      "outputs": [],
      "source": [
        "# 구글 드라이브 마운트\n",
        "# from google.colab import drive\n",
        "# drive.mount(\"/content/drive\")\n",
        "# 모듈 설치\n",
        "# !pip install konlpy\n",
        "# !pip install transformers\n",
        "# !pip install tensorflow_addons\n",
        "# !pip install xformers\n",
        "# 데이터 처리 모듈\n",
        "import pandas as pd\n",
        "import numpy as np\n",
        "import copy\n",
        "import re\n",
        "import math\n",
        "import json\n",
        "import requests\n",
        "import urllib.request\n",
        "from tqdm import tqdm\n",
        "import datetime\n",
        "import time\n",
        "import os\n",
        "import random\n",
        "# 텍스트 관련 모듈\n",
        "# from konlpy.tag import Okt\n",
        "# okt = Okt()\n",
        "# from konlpy.tag import *\n",
        "# import nltk\n",
        "# 전처리 모듈\n",
        "from sklearn.preprocessing import MinMaxScaler\n",
        "#시각화 모듈\n",
        "import matplotlib.pyplot as plt\n",
        "import seaborn as sns\n",
        "import seaborn as sns\n",
        "\n",
        "# 모델링 관련 모듈\n",
        "from sklearn.metrics import accuracy_score, precision_score, recall_score, f1_score, classification_report, confusion_matrix\n",
        "from sklearn.metrics import roc_auc_score, cohen_kappa_score, log_loss\n",
        "from sklearn.model_selection import train_test_split\n",
        "from sklearn.metrics import mean_squared_error, mean_absolute_error, r2_score\n",
        "from sklearn.metrics import accuracy_score, f1_score, precision_score, recall_score, \\\n",
        "                            roc_auc_score, confusion_matrix, classification_report, \\\n",
        "                            matthews_corrcoef, cohen_kappa_score, log_loss\n",
        "# Transformer Libraries\n",
        "from transformers import BertTokenizer, pipeline, TFBertForSequenceClassification,BertForSequenceClassification\n",
        "from transformers import AutoModelForSequenceClassification, AutoTokenizer, TextClassificationPipeline, AdamW, get_linear_schedule_with_warmup\n",
        "\n",
        "# Pytorch, Tensorflow Libraries\n",
        "import torch\n",
        "from torch.utils.data import Dataset\n",
        "from torch.utils.data import DataLoader, RandomSampler, SequentialSampler, TensorDataset\n",
        "import tensorflow_addons as tfa\n",
        "import tensorflow as tf\n",
        "from tensorflow.keras.callbacks import EarlyStopping, ModelCheckpoint"
      ]
    },
    {
      "cell_type": "markdown",
      "metadata": {
        "id": "J5S4vG7yT04c"
      },
      "source": [
        "- Checking GPU Working"
      ]
    },
    {
      "cell_type": "code",
      "execution_count": null,
      "metadata": {
        "colab": {
          "base_uri": "https://localhost:8080/"
        },
        "id": "0IyyDyhYT0a6",
        "outputId": "c9b952ed-4811-4ca5-f6e6-32fc8541d911"
      },
      "outputs": [
        {
          "name": "stdout",
          "output_type": "stream",
          "text": [
            "GPU 미작동 중\n"
          ]
        }
      ],
      "source": [
        "device_name = tf.test.gpu_device_name()\n",
        "if device_name == '/device:GPU:0':\n",
        "    print(\"GPU 작동 중\")\n",
        "    mirrored_strategy = tf.distribute.MirroredStrategy()\n",
        "else:\n",
        "    print(\"GPU 미작동 중\")"
      ]
    },
    {
      "cell_type": "markdown",
      "metadata": {
        "id": "mWXWm6tOiSCg"
      },
      "source": [
        "### 2. Load Data"
      ]
    },
    {
      "cell_type": "code",
      "execution_count": null,
      "metadata": {
        "id": "ZqqDwaIHiT1R"
      },
      "outputs": [],
      "source": [
        "class LoadGoogleDriveData():\n",
        "    def __init__(self, data = None):\n",
        "        self.data = data\n",
        "\n",
        "    def loadData(self, file_path: str, file_name_extension,\n",
        "                 columnTF: bool, unicode: str) -> pd.DataFrame():\n",
        "        self.data = pd.read_csv(os.path.join(file_path + file_name_extension),\n",
        "                                index_col = columnTF,\n",
        "                                sep = \",\",\n",
        "                                na_values = \"NaN\",\n",
        "                                encoding = unicode)\n",
        "        return self.data\n",
        "\n",
        "    def loadTxTData(self, file_path: str, file_name_extension,\n",
        "                 columnTF: bool, unicode: str) -> pd.DataFrame():\n",
        "        self.data = pd.read_csv(os.path.join(file_path + file_name_extension),\n",
        "                                index_col = columnTF,\n",
        "                                sep = \"|\",\n",
        "                                na_values = \"NaN\",\n",
        "                                encoding = unicode)\n",
        "        return self.data\n",
        "\n",
        "    def loadExcelData(self, file_path: str, file_name_extension,\n",
        "                      columnTF: bool) -> pd.DataFrame():\n",
        "        self.data = pd.read_excel(os.path.join(file_path + file_name_extension),\n",
        "                                  index_col = columnTF)\n",
        "        return self.data\n",
        "\n",
        "    # 용량이 큰 csv 파일 읽어오기(fopen - fread와 유사한 방식)\n",
        "    def loadDataWithChunking(self, file_path: str, file_name_extension,\n",
        "                             chunking_row_num: int, columnTF: bool, unicode: str) -> pd.DataFrame():\n",
        "        chunkdata = pd.read_csv(os.path.join(file_path + file_name_extension),\n",
        "                                chunksize = chunking_row_num,\n",
        "                                index_col = columnTF,\n",
        "                                sep = \",\",\n",
        "                                na_values = \"NaN\",\n",
        "                                encoding = unicode)\n",
        "        self.data = list(chunkdata)\n",
        "        self.data = pd.concat(self.data)\n",
        "\n",
        "        return self.data"
      ]
    },
    {
      "cell_type": "code",
      "execution_count": null,
      "metadata": {
        "id": "KqGrZNYYiVXy"
      },
      "outputs": [],
      "source": [
        "mountInstance = LoadGoogleDriveData()"
      ]
    },
    {
      "cell_type": "markdown",
      "metadata": {
        "id": "wEaDu0FeVoJj"
      },
      "source": [
        "- load financial sentiment data"
      ]
    },
    {
      "cell_type": "code",
      "execution_count": null,
      "metadata": {
        "colab": {
          "base_uri": "https://localhost:8080/",
          "height": 195
        },
        "id": "3wfKNJieVoa0",
        "outputId": "75ae1148-5cca-424c-af41-314dc48a223e"
      },
      "outputs": [
        {
          "data": {
            "text/html": [
              "<div>\n",
              "<style scoped>\n",
              "    .dataframe tbody tr th:only-of-type {\n",
              "        vertical-align: middle;\n",
              "    }\n",
              "\n",
              "    .dataframe tbody tr th {\n",
              "        vertical-align: top;\n",
              "    }\n",
              "\n",
              "    .dataframe thead th {\n",
              "        text-align: right;\n",
              "    }\n",
              "</style>\n",
              "<table border=\"1\" class=\"dataframe\">\n",
              "  <thead>\n",
              "    <tr style=\"text-align: right;\">\n",
              "      <th></th>\n",
              "      <th>label</th>\n",
              "      <th>kor_sentence</th>\n",
              "      <th>sentiment</th>\n",
              "    </tr>\n",
              "  </thead>\n",
              "  <tbody>\n",
              "    <tr>\n",
              "      <th>0</th>\n",
              "      <td>0</td>\n",
              "      <td>Gran에 따르면, 그 회사는 회사가 성장하고 있는 곳이지만, 모든 생산을 러시아로...</td>\n",
              "      <td>neutral</td>\n",
              "    </tr>\n",
              "    <tr>\n",
              "      <th>1</th>\n",
              "      <td>0</td>\n",
              "      <td>테크노폴리스는 컴퓨터 기술과 통신 분야에서 일하는 회사들을 유치하기 위해 10만 평...</td>\n",
              "      <td>neutral</td>\n",
              "    </tr>\n",
              "    <tr>\n",
              "      <th>2</th>\n",
              "      <td>2</td>\n",
              "      <td>국제 전자산업 회사인 엘코텍은 탈린 공장에서 수십 명의 직원을 해고했으며, 이전의 ...</td>\n",
              "      <td>negative</td>\n",
              "    </tr>\n",
              "  </tbody>\n",
              "</table>\n",
              "</div>"
            ],
            "text/plain": [
              "   label                                       kor_sentence sentiment\n",
              "0      0  Gran에 따르면, 그 회사는 회사가 성장하고 있는 곳이지만, 모든 생산을 러시아로...   neutral\n",
              "1      0  테크노폴리스는 컴퓨터 기술과 통신 분야에서 일하는 회사들을 유치하기 위해 10만 평...   neutral\n",
              "2      2  국제 전자산업 회사인 엘코텍은 탈린 공장에서 수십 명의 직원을 해고했으며, 이전의 ...  negative"
            ]
          },
          "execution_count": 356,
          "metadata": {},
          "output_type": "execute_result"
        }
      ],
      "source": [
        "financial_data = mountInstance.loadData(\n",
        "            file_path = '../DATA/',\n",
        "            file_name_extension = \"fin_sentiment_dataset.csv\",\n",
        "            unicode = 'utf-8-sig', columnTF = False).iloc[:,1:]\n",
        "\n",
        "financial_data = financial_data.rename(columns = {'labels':'label'})\n",
        "financial_data['sentiment'] = financial_data['label'].replace({0:'neutral',1:'positive',2:'negative'})\n",
        "financial_data.head(3)"
      ]
    },
    {
      "cell_type": "markdown",
      "metadata": {
        "id": "h-1stR0Ad7xt"
      },
      "source": [
        "### 3. EDA"
      ]
    },
    {
      "cell_type": "code",
      "execution_count": null,
      "metadata": {
        "colab": {
          "base_uri": "https://localhost:8080/",
          "height": 385
        },
        "id": "_F3ZK4j6d7b1",
        "outputId": "6d5ea4c0-ab83-435d-b4da-595e2c6f9287"
      },
      "outputs": [
        {
          "data": {
            "text/plain": [
              "Text(2, 2800, 'shpae : (4827, 3)')"
            ]
          },
          "execution_count": 346,
          "metadata": {},
          "output_type": "execute_result"
        },
        {
          "data": {
            "image/png": "[encoded data removed]",
            "text/plain": [
              "<Figure size 1000x500 with 1 Axes>"
            ]
          },
          "metadata": {},
          "output_type": "display_data"
        }
      ],
      "source": [
        "# Configure the plot size\n",
        "plt.figure(figsize = (10,5))\n",
        "# Increase information on the figure\n",
        "sns.set(font_scale=1)\n",
        "sns.countplot(x='sentiment', data = financial_data)\n",
        "plt.title('News Sentiment Distribution')\n",
        "plt.xlabel('News Polarity')\n",
        "plt.ylabel('Number of News')\n",
        "plt.text(2,2800,f'shpae : {financial_data.shape}')"
      ]
    },
    {
      "cell_type": "markdown",
      "metadata": {
        "id": "NSLHzF9dqnva"
      },
      "source": [
        "- Checking Data Distribution"
      ]
    },
    {
      "cell_type": "code",
      "execution_count": null,
      "metadata": {
        "id": "uiArrG8PoBUC"
      },
      "outputs": [],
      "source": [
        "def get_sentences_len(df):\n",
        "    sentences_sequence_lengths = []\n",
        "    print(\"Encoding in progress...\")\n",
        "    for sentence in tqdm(df.kor_sentence):\n",
        "        encoded_sentence = tokenizer.encode(sentence,\n",
        "                                         add_special_tokens = True)\n",
        "        # record the length of the encoded review\n",
        "        sentences_sequence_lengths.append(len(encoded_sentence))\n",
        "    print(\"End of Task.\")\n",
        "    return sentences_sequence_lengths\n",
        "\n",
        "def show_sentence_distribution(sequence_lengths, figsize = (15,8)):\n",
        "    # Get the percentage of reviews with length > 512\n",
        "    len_512_plus = [rev_len for rev_len in sequence_lengths if rev_len > 512]\n",
        "    percent = (len(len_512_plus)/len(sequence_lengths))*100\n",
        "    print(\"Maximum Sequence Length is {}\".format(max(sequence_lengths)))\n",
        "\n",
        "    # Configure the plot size\n",
        "    plt.figure(figsize = figsize)\n",
        "\n",
        "    # Plot the result\n",
        "    sns.distplot(sequence_lengths, kde = False, rug = False)\n",
        "    plt.title('sentences Lengths Distribution')\n",
        "    plt.xlabel('sentences Length')\n",
        "    plt.ylabel('Number of sentences')"
      ]
    },
    {
      "cell_type": "code",
      "execution_count": null,
      "metadata": {
        "colab": {
          "base_uri": "https://localhost:8080/",
          "height": 656
        },
        "id": "ARZ91dC2qnzv",
        "outputId": "986b2489-a42e-4de2-f98c-402da18f6a54"
      },
      "outputs": [
        {
          "name": "stdout",
          "output_type": "stream",
          "text": [
            "Encoding in progress...\n"
          ]
        },
        {
          "name": "stderr",
          "output_type": "stream",
          "text": [
            "100% 4827/4827 [00:00<00:00, 7125.70it/s]\n",
            "/tmp/ipykernel_784/2432005828.py:22: UserWarning: \n",
            "\n",
            "`distplot` is a deprecated function and will be removed in seaborn v0.14.0.\n",
            "\n",
            "Please adapt your code to use either `displot` (a figure-level function with\n",
            "similar flexibility) or `histplot` (an axes-level function for histograms).\n",
            "\n",
            "For a guide to updating your code to use the new functions, please see\n",
            "https://gist.github.com/mwaskom/de44147ed2974457ad6372750bbe5751\n",
            "\n",
            "  sns.distplot(sequence_lengths, kde = False, rug = False)\n"
          ]
        },
        {
          "name": "stdout",
          "output_type": "stream",
          "text": [
            "End of Task.\n",
            "Maximum Sequence Length is 112\n"
          ]
        },
        {
          "data": {
            "image/png": "[encoded data removed]",
            "text/plain": [
              "<Figure size 1500x800 with 1 Axes>"
            ]
          },
          "metadata": {},
          "output_type": "display_data"
        }
      ],
      "source": [
        "tokenizer = AutoTokenizer.from_pretrained(\"kwoncho/KoFinBERT\",\n",
        "                                                  do_lower_case=True)\n",
        "sentences_sequence_lengths = get_sentences_len(financial_data)\n",
        "show_sentence_distribution(sentences_sequence_lengths)\n",
        "# 문장 최대 길이 : 112"
      ]
    },
    {
      "cell_type": "markdown",
      "metadata": {
        "id": "YVTrNDgTijNs"
      },
      "source": [
        "### 4. Sentiment Analysis"
      ]
    },
    {
      "cell_type": "markdown",
      "metadata": {
        "id": "zUGBOE9Kge5i"
      },
      "source": [
        "- 모델 정의 및 데이터 분할"
      ]
    },
    {
      "cell_type": "code",
      "execution_count": null,
      "metadata": {
        "id": "m1wHm2r5ge5i"
      },
      "outputs": [],
      "source": [
        "# Load model directly\n",
        "tokenizer = AutoTokenizer.from_pretrained(\"kwoncho/KoFinBERT\")\n",
        "model = AutoModelForSequenceClassification.from_pretrained(\"kwoncho/KoFinBERT\")\n",
        "# Classifier\n",
        "text_classifier = TextClassificationPipeline(tokenizer = tokenizer,\n",
        "                                             model= model)\n",
        "# feature, Target 데이터 분리\n",
        "X_data = financial_data['kor_sentence']\n",
        "y_data = financial_data['label']"
      ]
    },
    {
      "cell_type": "markdown",
      "metadata": {
        "id": "n2OJ55rWge5j"
      },
      "source": [
        "- 감정분류 진행"
      ]
    },
    {
      "cell_type": "code",
      "execution_count": null,
      "metadata": {
        "scrolled": false,
        "id": "e2ZEMpptge5j",
        "outputId": "cb20e45a-2bde-4ab2-b6b3-678e0d0ef5c4"
      },
      "outputs": [
        {
          "name": "stderr",
          "output_type": "stream",
          "text": [
            "100% 4827/4827 [06:13<00:00, 12.91it/s]\n"
          ]
        }
      ],
      "source": [
        "X_li = list(X_data)\n",
        "with tqdm(total=len(X_li)) as pbar:\n",
        "    sentiment_li = []\n",
        "    for item in X_li:\n",
        "        result = text_classifier([item])\n",
        "        label = result[0]['label']\n",
        "        sentiment = 1 if label == 'positive' else 0 if label == 'neutral' else 2\n",
        "        sentiment_li.append(sentiment)\n",
        "        pbar.update(1)\n",
        "y_pred = sentiment_li"
      ]
    },
    {
      "cell_type": "markdown",
      "metadata": {
        "id": "idoM1jI_ge5k"
      },
      "source": [
        "- 감정분류 성능 평가"
      ]
    },
    {
      "cell_type": "code",
      "execution_count": null,
      "metadata": {
        "id": "qagf4Zevge5k",
        "outputId": "83c42152-88ff-4778-82f1-edbc7ab01f3e"
      },
      "outputs": [
        {
          "name": "stdout",
          "output_type": "stream",
          "text": [
            "정확도: 0.7768800497203232\n",
            "정밀도: 0.8024512981840617\n",
            "재현율: 0.7768800497203232\n",
            "F1 스코어: 0.7838621759143496\n",
            "Cohen's Kappa score: 0.5744555924481709\n"
          ]
        }
      ],
      "source": [
        "# 정확도 계산\n",
        "accuracy = accuracy_score(y_pred, y_data)\n",
        "print(\"정확도:\", accuracy)\n",
        "\n",
        "# 정밀도 계산\n",
        "precision = precision_score(y_pred, y_data, average='weighted')\n",
        "print(\"정밀도:\", precision)\n",
        "\n",
        "# 재현율 계산\n",
        "recall = recall_score(y_pred, y_data, average='weighted')\n",
        "print(\"재현율:\", recall)\n",
        "\n",
        "# F1 스코어 계산\n",
        "f1 = f1_score(y_pred, y_data, average='weighted')\n",
        "print(\"F1 스코어:\", f1)\n",
        "\n",
        "# Cohen's Kappa score 계산\n",
        "kappa = cohen_kappa_score(y_pred, y_data)\n",
        "print(\"Cohen's Kappa score:\", kappa)"
      ]
    },
    {
      "cell_type": "code",
      "execution_count": null,
      "metadata": {
        "id": "BEfaxMhUge5k",
        "outputId": "304f3ac7-34ad-4d6d-e311-8efcfbed52cc"
      },
      "outputs": [
        {
          "data": {
            "text/html": [
              "<div>\n",
              "<style scoped>\n",
              "    .dataframe tbody tr th:only-of-type {\n",
              "        vertical-align: middle;\n",
              "    }\n",
              "\n",
              "    .dataframe tbody tr th {\n",
              "        vertical-align: top;\n",
              "    }\n",
              "\n",
              "    .dataframe thead th {\n",
              "        text-align: right;\n",
              "    }\n",
              "</style>\n",
              "<table border=\"1\" class=\"dataframe\">\n",
              "  <thead>\n",
              "    <tr style=\"text-align: right;\">\n",
              "      <th></th>\n",
              "      <th>label</th>\n",
              "      <th>kor_sentence</th>\n",
              "      <th>sentiment</th>\n",
              "      <th>predict_label</th>\n",
              "    </tr>\n",
              "  </thead>\n",
              "  <tbody>\n",
              "    <tr>\n",
              "      <th>0</th>\n",
              "      <td>0</td>\n",
              "      <td>Gran에 따르면, 그 회사는 회사가 성장하고 있는 곳이지만, 모든 생산을 러시아로...</td>\n",
              "      <td>neutral</td>\n",
              "      <td>0</td>\n",
              "    </tr>\n",
              "    <tr>\n",
              "      <th>1</th>\n",
              "      <td>0</td>\n",
              "      <td>테크노폴리스는 컴퓨터 기술과 통신 분야에서 일하는 회사들을 유치하기 위해 10만 평...</td>\n",
              "      <td>neutral</td>\n",
              "      <td>0</td>\n",
              "    </tr>\n",
              "    <tr>\n",
              "      <th>2</th>\n",
              "      <td>2</td>\n",
              "      <td>국제 전자산업 회사인 엘코텍은 탈린 공장에서 수십 명의 직원을 해고했으며, 이전의 ...</td>\n",
              "      <td>negative</td>\n",
              "      <td>2</td>\n",
              "    </tr>\n",
              "    <tr>\n",
              "      <th>3</th>\n",
              "      <td>1</td>\n",
              "      <td>새로운 생산공장으로 인해 회사는 예상되는 수요 증가를 충족시킬 수 있는 능력을 증가...</td>\n",
              "      <td>positive</td>\n",
              "      <td>1</td>\n",
              "    </tr>\n",
              "    <tr>\n",
              "      <th>4</th>\n",
              "      <td>1</td>\n",
              "      <td>2009-2012년 회사의 업데이트된 전략에 따르면, Basware는 20% - 4...</td>\n",
              "      <td>positive</td>\n",
              "      <td>0</td>\n",
              "    </tr>\n",
              "  </tbody>\n",
              "</table>\n",
              "</div>"
            ],
            "text/plain": [
              "   label                                       kor_sentence sentiment  \\\n",
              "0      0  Gran에 따르면, 그 회사는 회사가 성장하고 있는 곳이지만, 모든 생산을 러시아로...   neutral   \n",
              "1      0  테크노폴리스는 컴퓨터 기술과 통신 분야에서 일하는 회사들을 유치하기 위해 10만 평...   neutral   \n",
              "2      2  국제 전자산업 회사인 엘코텍은 탈린 공장에서 수십 명의 직원을 해고했으며, 이전의 ...  negative   \n",
              "3      1  새로운 생산공장으로 인해 회사는 예상되는 수요 증가를 충족시킬 수 있는 능력을 증가...  positive   \n",
              "4      1  2009-2012년 회사의 업데이트된 전략에 따르면, Basware는 20% - 4...  positive   \n",
              "\n",
              "   predict_label  \n",
              "0              0  \n",
              "1              0  \n",
              "2              2  \n",
              "3              1  \n",
              "4              0  "
            ]
          },
          "execution_count": 191,
          "metadata": {},
          "output_type": "execute_result"
        }
      ],
      "source": [
        "financial_data = financial_data\n",
        "financial_data['predict_label'] = y_pred\n",
        "financial_data.head()"
      ]
    },
    {
      "cell_type": "code",
      "execution_count": null,
      "metadata": {
        "id": "2qGJXtt-ge5k",
        "outputId": "15a987ac-70a1-4c8f-ce0b-7a9205514ff3"
      },
      "outputs": [
        {
          "data": {
            "text/html": [
              "<div>\n",
              "<style scoped>\n",
              "    .dataframe tbody tr th:only-of-type {\n",
              "        vertical-align: middle;\n",
              "    }\n",
              "\n",
              "    .dataframe tbody tr th {\n",
              "        vertical-align: top;\n",
              "    }\n",
              "\n",
              "    .dataframe thead th {\n",
              "        text-align: right;\n",
              "    }\n",
              "</style>\n",
              "<table border=\"1\" class=\"dataframe\">\n",
              "  <thead>\n",
              "    <tr style=\"text-align: right;\">\n",
              "      <th></th>\n",
              "      <th>PLM</th>\n",
              "      <th>Accuracy</th>\n",
              "      <th>Precision</th>\n",
              "      <th>Recall</th>\n",
              "      <th>F1_Score</th>\n",
              "      <th>kappa</th>\n",
              "    </tr>\n",
              "  </thead>\n",
              "  <tbody>\n",
              "    <tr>\n",
              "      <th>0</th>\n",
              "      <td>KoFinBERT</td>\n",
              "      <td>0.77688</td>\n",
              "      <td>0.802451</td>\n",
              "      <td>0.77688</td>\n",
              "      <td>0.783862</td>\n",
              "      <td>0.574456</td>\n",
              "    </tr>\n",
              "  </tbody>\n",
              "</table>\n",
              "</div>"
            ],
            "text/plain": [
              "         PLM  Accuracy  Precision   Recall  F1_Score     kappa\n",
              "0  KoFinBERT   0.77688   0.802451  0.77688  0.783862  0.574456"
            ]
          },
          "execution_count": 192,
          "metadata": {},
          "output_type": "execute_result"
        }
      ],
      "source": [
        "metric_total = pd.DataFrame({'PLM':'KoFinBERT','Accuracy': [accuracy], 'Precision': [precision],\n",
        "                            'Recall': [recall], 'F1_Score': [f1], 'kappa': [kappa]})\n",
        "metric_total"
      ]
    },
    {
      "cell_type": "markdown",
      "metadata": {
        "id": "qBg6XhoQOpAv"
      },
      "source": [
        "- 뉴스 기사 감정 스코어 예측"
      ]
    },
    {
      "cell_type": "code",
      "execution_count": null,
      "metadata": {
        "id": "5IKWDrrOge5l"
      },
      "outputs": [],
      "source": [
        "def sentiment_scoring(start_date, end_date, keyword):\n",
        "\n",
        "    # Read the Month News Data\n",
        "    for month in pd.date_range(start_date, end_date, freq = 'M'):\n",
        "        file_path = f'../DATA/Preprocessing_Data/{keyword}_Preprocessing_News_Data/'\n",
        "        file_name = f\"news_preprocess_{month.strftime('%Y%m')}_{keyword}.csv\"\n",
        "        month_news_data = mountInstance.loadData(file_path = file_path, file_name_extension = file_name,\n",
        "                                                 unicode='utf-8-sig', columnTF=False)\n",
        "\n",
        "        # Train, Target 데이터 분리\n",
        "        X_data = month_news_data['title']\n",
        "        X_li = list(X_data)\n",
        "\n",
        "        # Sentiment Score 계산\n",
        "        with tqdm(total=len(X_li)) as pbar:\n",
        "            sentiment_li = []\n",
        "            for item in X_li:\n",
        "                result = text_classifier([item])\n",
        "                label = result[0]['label']\n",
        "                sentiment = 1 if label == 'positive' else 0 if label == 'neutral' else 2\n",
        "                sentiment_li.append(sentiment)\n",
        "                pbar.update(1)\n",
        "        # DataFrame 생성 및 저장\n",
        "        month_news_data = month_news_data[['pubdate','title']]\n",
        "        month_news_data['tmp_score'] = sentiment_li\n",
        "        month_news_data['sentiment_score'] = month_news_data['tmp_score'].replace({2:-1})\n",
        "        month_news_data = month_news_data.drop('tmp_score',axis=1)\n",
        "\n",
        "        # pubdata 기준으로 그룹화하고 'sentiment_score'의 평균을 계산\n",
        "        ## 데이터 수집 완료 후 에는 장 시작 시간, 장 마감 시간도 고려해서 평균 계산 예정\n",
        "        daily_sentiments = month_news_data.groupby('pubdate')['sentiment_score'].mean().reset_index()\n",
        "        daily_sentiments = daily_sentiments.reset_index(drop=True).rename(columns = {'pubdate':'Date'})\n",
        "\n",
        "        # Save File path\n",
        "        file_path = '../DATA/Sentiment_Score_Data/'\n",
        "        daily_sentiments.to_csv(file_path + f'Sentiment_Score_title_{keyword}_{month.strftime(\"%Y%m\")}_KOFINBERT.csv',index=False)\n",
        "    return daily_sentiments"
      ]
    },
    {
      "cell_type": "markdown",
      "metadata": {
        "id": "cjUxAab6wK1p"
      },
      "source": [
        "- Kospi Sentiment Analysis"
      ]
    },
    {
      "cell_type": "code",
      "execution_count": null,
      "metadata": {
        "id": "03DIWnztjOUK",
        "scrolled": true,
        "outputId": "e7076a12-6d6b-46cc-afc0-12ebcb4f2d37"
      },
      "outputs": [
        {
          "name": "stderr",
          "output_type": "stream",
          "text": [
            "  7% 176/2595 [00:11<02:31, 15.95it/s]"
          ]
        }
      ],
      "source": [
        "start_date = '2023-01'\n",
        "end_date = '2023-07'\n",
        "keyword = \"Kospi\"\n",
        "sentiment_scoring(start_date, end_date, keyword)"
      ]
    },
    {
      "cell_type": "markdown",
      "metadata": {
        "id": "ib8XUg72wRaX"
      },
      "source": [
        "- Kosdaq Sentiment Analysis"
      ]
    },
    {
      "cell_type": "code",
      "execution_count": null,
      "metadata": {
        "id": "sbjga6WJwWSi"
      },
      "outputs": [],
      "source": [
        "start_date = '2023-01'\n",
        "end_date = '2023-07'\n",
        "keyword = \"Kosdaq\"\n",
        "sentiment_scoring(start_date, end_date, keyword)"
      ]
    }
  ],
  "metadata": {
    "accelerator": "TPU",
    "colab": {
      "provenance": [],
      "include_colab_link": true
    },
    "kernelspec": {
      "display_name": "Pytorch2.0,Tensorflow2.12 (kaggle v135 23.07/ Python Conda 3.10,CUDA 11.8) on Backend.AI",
      "language": "python",
      "name": "python3"
    },
    "language_info": {
      "codemirror_mode": {
        "name": "ipython",
        "version": 3
      },
      "file_extension": ".py",
      "mimetype": "text/x-python",
      "name": "python",
      "nbconvert_exporter": "python",
      "pygments_lexer": "ipython3",
      "version": "3.10.12"
    }
  },
  "nbformat": 4,
  "nbformat_minor": 0
}