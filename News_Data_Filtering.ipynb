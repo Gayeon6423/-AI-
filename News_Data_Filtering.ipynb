{
  "cells": [
    {
      "cell_type": "markdown",
      "metadata": {
        "id": "view-in-github",
        "colab_type": "text"
      },
      "source": [
        "<a href=\"https://colab.research.google.com/github/Gayeon6423/BusinessAI-Capston/blob/main/News_Data_Filtering.ipynb\" target=\"_parent\"><img src=\"https://colab.research.google.com/assets/colab-badge.svg\" alt=\"Open In Colab\"/></a>"
      ]
    },
    {
      "cell_type": "markdown",
      "id": "306fb3ea",
      "metadata": {
        "id": "306fb3ea"
      },
      "source": [
        "# 목차\n",
        "\n",
        "### 1. Import library\n",
        "\n",
        "### 2. Load Data\n",
        "\n",
        "### 3. Filtering Data\n",
        "- [3.1 Filtering : Kospi](#3.1-Sector-Filtering-:-Kospi)\n",
        "- [3.2 Filtering : Kosdaq](#3.2-Sector-Filtering-:-Kosdaq)"
      ]
    },
    {
      "cell_type": "markdown",
      "id": "10c99b78",
      "metadata": {
        "id": "10c99b78"
      },
      "source": [
        "## 1. Import library"
      ]
    },
    {
      "cell_type": "code",
      "source": [
        "# 데이터 처리 모듈\n",
        "import pandas as pd\n",
        "from sklearn.impute import KNNImputer\n",
        "# 행렬 등 통계 연산 모듈\n",
        "import numpy as np\n",
        "from scipy.stats import iqr\n",
        "from scipy.interpolate import interp1d\n",
        "from sklearn.impute import KNNImputer\n",
        "from sklearn.decomposition import PCA\n",
        "from sklearn.linear_model import LogisticRegression\n",
        "from tqdm import tqdm\n",
        "from datetime import datetime\n",
        "from dateutil.relativedelta import relativedelta\n",
        "# 크롤링 및 스크래핑\n",
        "import requests\n",
        "from bs4 import BeautifulSoup\n",
        "from urllib.request import urlopen\n",
        "# 지수형 표기법 e를 연속형 변환\n",
        "pd.options.display.float_format = '{:.4f}'.format\n",
        "# 타입 어노테이션(Any, Sequence 등의 메서드 활용)\n",
        "from typing import *\n",
        "import os\n",
        "# 구글 드라이브 마운트\n",
        "from google.colab import drive\n",
        "drive.mount(\"/content/drive\")\n",
        "import os\n",
        "# 조합 찾는 반복문 메서드\n",
        "from itertools import permutations\n",
        "from itertools import combinations\n",
        "# 데이터 시각화\n",
        "import matplotlib.pyplot as plt\n",
        "# from matplotlib.pyplot import\n",
        "import matplotlib.font_manager as fm\n",
        "import missingno as msno\n",
        "import seaborn as sns"
      ],
      "metadata": {
        "colab": {
          "base_uri": "https://localhost:8080/"
        },
        "id": "CfGZIOvL3FQi",
        "outputId": "c11b8a90-da19-45a5-d0f3-0e4d4e8c7b54"
      },
      "id": "CfGZIOvL3FQi",
      "execution_count": 3,
      "outputs": [
        {
          "output_type": "stream",
          "name": "stdout",
          "text": [
            "Mounted at /content/drive\n"
          ]
        }
      ]
    },
    {
      "cell_type": "markdown",
      "id": "fd742f4b",
      "metadata": {
        "id": "fd742f4b"
      },
      "source": [
        "## 2. Load Data"
      ]
    },
    {
      "cell_type": "code",
      "source": [
        "class LoadGoogleDriveData():\n",
        "  def __init__(self, data = None):\n",
        "    self.data = data\n",
        "\n",
        "  def loadData(self, file_path: str, file_name_extension,\n",
        "               columnTF: bool, unicode: str) -> pd.DataFrame():\n",
        "    self.data = pd.read_csv(os.path.join(file_path + file_name_extension),\n",
        "                            index_col = columnTF,\n",
        "                            sep = \",\",\n",
        "                            na_values = \"NaN\",\n",
        "                            encoding = unicode)\n",
        "    return self.data\n",
        "\n",
        "  def loadTxTData(self, file_path: str, file_name_extension,\n",
        "               columnTF: bool, unicode: str) -> pd.DataFrame():\n",
        "    self.data = pd.read_csv(os.path.join(file_path + file_name_extension),\n",
        "                            index_col = columnTF,\n",
        "                            sep = \"|\",\n",
        "                            na_values = \"NaN\",\n",
        "                            encoding = unicode)\n",
        "    return self.data\n",
        "\n",
        "  def loadExcelData(self, file_path: str, file_name_extension,\n",
        "               columnTF: bool) -> pd.DataFrame():\n",
        "    self.data = pd.read_excel(os.path.join(file_path + file_name_extension),\n",
        "                              index_col = columnTF)\n",
        "    return self.data\n",
        "\n",
        "  # 용량이 큰 csv 파일 읽어오기(fopen - fread와 유사한 방식)\n",
        "  def loadDataWithChunking(self, file_path: str, file_name_extension,\n",
        "                           chunking_row_num: int, columnTF: bool, unicode: str) -> pd.DataFrame():\n",
        "    chunkdata = pd.read_csv(os.path.join(file_path + file_name_extension),\n",
        "                            chunksize = chunking_row_num,\n",
        "                            index_col = columnTF,\n",
        "                            sep = \",\",\n",
        "                            na_values = \"NaN\",\n",
        "                            encoding = unicode)\n",
        "    self.data = list(chunkdata)\n",
        "    self.data = pd.concat(self.data)\n",
        "\n",
        "    return self.data"
      ],
      "metadata": {
        "id": "LmsprprA4P8s"
      },
      "id": "LmsprprA4P8s",
      "execution_count": 7,
      "outputs": []
    },
    {
      "cell_type": "code",
      "source": [
        "mountInstance = LoadGoogleDriveData()"
      ],
      "metadata": {
        "id": "CVoQzR8C4ciK"
      },
      "id": "CVoQzR8C4ciK",
      "execution_count": 8,
      "outputs": []
    },
    {
      "cell_type": "code",
      "execution_count": 5,
      "id": "27f67fbd",
      "metadata": {
        "colab": {
          "base_uri": "https://localhost:8080/"
        },
        "id": "27f67fbd",
        "outputId": "31d50e0c-7117-4b11-b896-43277554f20f"
      },
      "outputs": [
        {
          "output_type": "stream",
          "name": "stdout",
          "text": [
            "경제면_금융섹터_기사(202201)\n",
            "경제면_금융섹터_기사(202202)\n",
            "경제면_금융섹터_기사(202203)\n",
            "경제면_금융섹터_기사(202204)\n",
            "경제면_금융섹터_기사(202205)\n",
            "경제면_금융섹터_기사(202206)\n",
            "경제면_금융섹터_기사(202207)\n",
            "경제면_금융섹터_기사(202208)\n",
            "경제면_금융섹터_기사(202209)\n",
            "경제면_금융섹터_기사(202210)\n",
            "경제면_금융섹터_기사(202211)\n",
            "경제면_금융섹터_기사(202212)\n",
            "경제면_금융섹터_기사(202301)\n",
            "경제면_금융섹터_기사(202302)\n",
            "경제면_금융섹터_기사(202303)\n",
            "경제면_금융섹터_기사(202304)\n",
            "경제면_금융섹터_기사(202305)\n",
            "경제면_금융섹터_기사(202306)\n"
          ]
        }
      ],
      "source": [
        "# Define the start and end dates\n",
        "start_date = '2022-01'\n",
        "end_date = '2023-07'\n",
        "\n",
        "# Convert start and end dates to datetime objects\n",
        "start = pd.to_datetime(start_date)\n",
        "end = pd.to_datetime(end_date)\n",
        "\n",
        "# Iterate over the date range\n",
        "for date in pd.date_range(start, end, freq='M'):\n",
        "    # Generate the file name for the specific month\n",
        "    file_name = f\"경제면_금융섹터_기사({date.strftime('%Y%m')})\"\n",
        "    print(file_name)"
      ]
    },
    {
      "cell_type": "markdown",
      "id": "11cc0c6d",
      "metadata": {
        "id": "11cc0c6d"
      },
      "source": [
        "## 3. Filtering Data"
      ]
    },
    {
      "cell_type": "markdown",
      "id": "5a9d5c91",
      "metadata": {
        "id": "5a9d5c91"
      },
      "source": [
        "### 3.1 Filtering : Kospi"
      ]
    },
    {
      "cell_type": "code",
      "execution_count": 25,
      "id": "88acb476",
      "metadata": {
        "colab": {
          "base_uri": "https://localhost:8080/"
        },
        "id": "88acb476",
        "outputId": "ed872f42-214e-417c-97f8-a7ddb4e67041"
      },
      "outputs": [
        {
          "output_type": "stream",
          "name": "stdout",
          "text": [
            "First few rows of /content/drive/MyDrive/산업 AI 캡스톤/DATA/Kospi_Filtering_News_Data/news_202201_kospi.csv, Rows number :  606\n",
            "\n",
            "First few rows of /content/drive/MyDrive/산업 AI 캡스톤/DATA/Kospi_Filtering_News_Data/news_202202_kospi.csv, Rows number :  387\n",
            "\n",
            "First few rows of /content/drive/MyDrive/산업 AI 캡스톤/DATA/Kospi_Filtering_News_Data/news_202203_kospi.csv, Rows number :  397\n",
            "\n",
            "First few rows of /content/drive/MyDrive/산업 AI 캡스톤/DATA/Kospi_Filtering_News_Data/news_202204_kospi.csv, Rows number :  328\n",
            "\n",
            "First few rows of /content/drive/MyDrive/산업 AI 캡스톤/DATA/Kospi_Filtering_News_Data/news_202205_kospi.csv, Rows number :  424\n",
            "\n",
            "First few rows of /content/drive/MyDrive/산업 AI 캡스톤/DATA/Kospi_Filtering_News_Data/news_202206_kospi.csv, Rows number :  593\n",
            "\n",
            "First few rows of /content/drive/MyDrive/산업 AI 캡스톤/DATA/Kospi_Filtering_News_Data/news_202207_kospi.csv, Rows number :  563\n",
            "\n",
            "First few rows of /content/drive/MyDrive/산업 AI 캡스톤/DATA/Kospi_Filtering_News_Data/news_202208_kospi.csv, Rows number :  445\n",
            "\n",
            "First few rows of /content/drive/MyDrive/산업 AI 캡스톤/DATA/Kospi_Filtering_News_Data/news_202209_kospi.csv, Rows number :  586\n",
            "\n",
            "First few rows of /content/drive/MyDrive/산업 AI 캡스톤/DATA/Kospi_Filtering_News_Data/news_202210_kospi.csv, Rows number :  408\n",
            "\n",
            "First few rows of /content/drive/MyDrive/산업 AI 캡스톤/DATA/Kospi_Filtering_News_Data/news_202211_kospi.csv, Rows number :  405\n",
            "\n",
            "First few rows of /content/drive/MyDrive/산업 AI 캡스톤/DATA/Kospi_Filtering_News_Data/news_202212_kospi.csv, Rows number :  423\n",
            "\n",
            "First few rows of /content/drive/MyDrive/산업 AI 캡스톤/DATA/Kospi_Filtering_News_Data/news_202301_kospi.csv, Rows number :  302\n",
            "\n",
            "First few rows of /content/drive/MyDrive/산업 AI 캡스톤/DATA/Kospi_Filtering_News_Data/news_202302_kospi.csv, Rows number :  349\n",
            "\n",
            "First few rows of /content/drive/MyDrive/산업 AI 캡스톤/DATA/Kospi_Filtering_News_Data/news_202303_kospi.csv, Rows number :  458\n",
            "\n",
            "First few rows of /content/drive/MyDrive/산업 AI 캡스톤/DATA/Kospi_Filtering_News_Data/news_202304_kospi.csv, Rows number :  346\n",
            "\n",
            "First few rows of /content/drive/MyDrive/산업 AI 캡스톤/DATA/Kospi_Filtering_News_Data/news_202305_kospi.csv, Rows number :  302\n",
            "\n",
            "First few rows of /content/drive/MyDrive/산업 AI 캡스톤/DATA/Kospi_Filtering_News_Data/news_202306_kospi.csv, Rows number :  380\n",
            "\n"
          ]
        }
      ],
      "source": [
        "# Iterate over the date range\n",
        "for date in pd.date_range(start, end, freq='M'):\n",
        "\n",
        "    # Read the CSV file\n",
        "    news_data = mountInstance.loadData(\n",
        "        file_path = '/content/drive/MyDrive/산업 AI 캡스톤/DATA/Original_News_Data/',\n",
        "        file_name_extension = f\"경제면_금융섹터_기사({date.strftime('%Y%m')}).csv\",\n",
        "        unicode = 'utf-8-sig', columnTF = False)\n",
        "\n",
        "    # Drop null values\n",
        "    news_data = news_data.dropna()\n",
        "\n",
        "    # Filtering news : 코스피,코스피지수,KOSPI,kospi,Kospi,코스피200,Kospi지수,KOSPI지수,KOSPI200,kospi200 행 필터링\n",
        "    news_data_kospi = news_data[news_data['content'].str.contains('코스피|코스피지수|KOSPI|kospi|Kospi|코스피200|Kospi지수|KOSPI지수|KOSPI200|kospi200')]\n",
        "\n",
        "    # Generate the file name\n",
        "    kospi_file_name = f\"/content/drive/MyDrive/산업 AI 캡스톤/DATA/Kospi_Filtering_News_Data/news_{date.strftime('%Y%m')}_kospi.csv\"\n",
        "\n",
        "    # Save the filtered data to a new CSV file\n",
        "    news_data_kospi.to_csv(kospi_file_name, encoding='utf-8-sig', index=False)\n",
        "\n",
        "    # Display the first few rows of the filtered data\n",
        "    print(f\"First few rows of {kospi_file_name}, \" \"Rows number : \", len(news_data_kospi) )\n",
        "    print()"
      ]
    },
    {
      "cell_type": "markdown",
      "id": "b2aedb5a",
      "metadata": {
        "id": "b2aedb5a"
      },
      "source": [
        "### 3.2 Filtering : Kosdaq"
      ]
    },
    {
      "cell_type": "code",
      "execution_count": 26,
      "id": "0f2e5cdc",
      "metadata": {
        "colab": {
          "base_uri": "https://localhost:8080/"
        },
        "id": "0f2e5cdc",
        "outputId": "f226b881-345f-4c71-d16f-b0136af37dc0"
      },
      "outputs": [
        {
          "output_type": "stream",
          "name": "stdout",
          "text": [
            "First few rows of /content/drive/MyDrive/산업 AI 캡스톤/DATA/Kosdaq_Filtering_News_Data/news_202201_kospi.csv, Rows number :  510\n",
            "\n",
            "First few rows of /content/drive/MyDrive/산업 AI 캡스톤/DATA/Kosdaq_Filtering_News_Data/news_202202_kospi.csv, Rows number :  266\n",
            "\n",
            "First few rows of /content/drive/MyDrive/산업 AI 캡스톤/DATA/Kosdaq_Filtering_News_Data/news_202203_kospi.csv, Rows number :  274\n",
            "\n",
            "First few rows of /content/drive/MyDrive/산업 AI 캡스톤/DATA/Kosdaq_Filtering_News_Data/news_202204_kospi.csv, Rows number :  248\n",
            "\n",
            "First few rows of /content/drive/MyDrive/산업 AI 캡스톤/DATA/Kosdaq_Filtering_News_Data/news_202205_kospi.csv, Rows number :  274\n",
            "\n",
            "First few rows of /content/drive/MyDrive/산업 AI 캡스톤/DATA/Kosdaq_Filtering_News_Data/news_202206_kospi.csv, Rows number :  373\n",
            "\n",
            "First few rows of /content/drive/MyDrive/산업 AI 캡스톤/DATA/Kosdaq_Filtering_News_Data/news_202207_kospi.csv, Rows number :  344\n",
            "\n",
            "First few rows of /content/drive/MyDrive/산업 AI 캡스톤/DATA/Kosdaq_Filtering_News_Data/news_202208_kospi.csv, Rows number :  308\n",
            "\n",
            "First few rows of /content/drive/MyDrive/산업 AI 캡스톤/DATA/Kosdaq_Filtering_News_Data/news_202209_kospi.csv, Rows number :  403\n",
            "\n",
            "First few rows of /content/drive/MyDrive/산업 AI 캡스톤/DATA/Kosdaq_Filtering_News_Data/news_202210_kospi.csv, Rows number :  332\n",
            "\n",
            "First few rows of /content/drive/MyDrive/산업 AI 캡스톤/DATA/Kosdaq_Filtering_News_Data/news_202211_kospi.csv, Rows number :  363\n",
            "\n",
            "First few rows of /content/drive/MyDrive/산업 AI 캡스톤/DATA/Kosdaq_Filtering_News_Data/news_202212_kospi.csv, Rows number :  329\n",
            "\n",
            "First few rows of /content/drive/MyDrive/산업 AI 캡스톤/DATA/Kosdaq_Filtering_News_Data/news_202301_kospi.csv, Rows number :  252\n",
            "\n",
            "First few rows of /content/drive/MyDrive/산업 AI 캡스톤/DATA/Kosdaq_Filtering_News_Data/news_202302_kospi.csv, Rows number :  279\n",
            "\n",
            "First few rows of /content/drive/MyDrive/산업 AI 캡스톤/DATA/Kosdaq_Filtering_News_Data/news_202303_kospi.csv, Rows number :  398\n",
            "\n",
            "First few rows of /content/drive/MyDrive/산업 AI 캡스톤/DATA/Kosdaq_Filtering_News_Data/news_202304_kospi.csv, Rows number :  331\n",
            "\n",
            "First few rows of /content/drive/MyDrive/산업 AI 캡스톤/DATA/Kosdaq_Filtering_News_Data/news_202305_kospi.csv, Rows number :  306\n",
            "\n",
            "First few rows of /content/drive/MyDrive/산업 AI 캡스톤/DATA/Kosdaq_Filtering_News_Data/news_202306_kospi.csv, Rows number :  321\n",
            "\n"
          ]
        }
      ],
      "source": [
        "# Iterate over the date range\n",
        "for date in pd.date_range(start, end, freq='M'):\n",
        "\n",
        "    # Read the CSV file\n",
        "    news_data = mountInstance.loadData(\n",
        "        file_path = '/content/drive/MyDrive/산업 AI 캡스톤/DATA/Original_News_Data/',\n",
        "        file_name_extension = f\"경제면_금융섹터_기사({date.strftime('%Y%m')}).csv\",\n",
        "        unicode = 'utf-8-sig', columnTF = False)\n",
        "\n",
        "    # Drop null values\n",
        "    news_data = news_data.dropna()\n",
        "\n",
        "    # Filtering news : 코스닥,코스닥지수,KOSDAP,kosdaq,Kosdaq,Kosdaq지수,KOSDAQ지수 행 필터링\n",
        "    news_data_kosdaq = news_data[news_data['content'].str.contains('코스닥|코스닥지수|KOSDAP|kosdaq|Kosdaq|Kosdaq지수|KOSDAQ지수')]\n",
        "\n",
        "    # Generate the file name\n",
        "    kosdaq_file_name = f\"/content/drive/MyDrive/산업 AI 캡스톤/DATA/Kosdaq_Filtering_News_Data/news_{date.strftime('%Y%m')}_kospi.csv\"\n",
        "\n",
        "    # Save the filtered data to a new CSV file\n",
        "    news_data_kosdaq.to_csv(kosdaq_file_name, encoding='utf-8-sig', index=False)\n",
        "\n",
        "    # Display the first few rows of the filtered data\n",
        "    print(f\"First few rows of {kosdaq_file_name}, \" \"Rows number : \", len(news_data_kosdaq) )\n",
        "    print()"
      ]
    }
  ],
  "metadata": {
    "kernelspec": {
      "display_name": "textdata",
      "language": "python",
      "name": "textdata"
    },
    "language_info": {
      "codemirror_mode": {
        "name": "ipython",
        "version": 3
      },
      "file_extension": ".py",
      "mimetype": "text/x-python",
      "name": "python",
      "nbconvert_exporter": "python",
      "pygments_lexer": "ipython3",
      "version": "3.8.16"
    },
    "varInspector": {
      "cols": {
        "lenName": 16,
        "lenType": 16,
        "lenVar": 40
      },
      "kernels_config": {
        "python": {
          "delete_cmd_postfix": "",
          "delete_cmd_prefix": "del ",
          "library": "var_list.py",
          "varRefreshCmd": "print(var_dic_list())"
        },
        "r": {
          "delete_cmd_postfix": ") ",
          "delete_cmd_prefix": "rm(",
          "library": "var_list.r",
          "varRefreshCmd": "cat(var_dic_list()) "
        }
      },
      "types_to_exclude": [
        "module",
        "function",
        "builtin_function_or_method",
        "instance",
        "_Feature"
      ],
      "window_display": false
    },
    "colab": {
      "provenance": [],
      "include_colab_link": true
    }
  },
  "nbformat": 4,
  "nbformat_minor": 5
}