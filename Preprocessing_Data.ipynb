{
  "cells": [
    {
      "cell_type": "markdown",
      "metadata": {
        "id": "view-in-github",
        "colab_type": "text"
      },
      "source": [
        "<a href=\"https://colab.research.google.com/github/Gayeon6423/BusinessAI-Capston/blob/main/Preprocessing_Data.ipynb\" target=\"_parent\"><img src=\"https://colab.research.google.com/assets/colab-badge.svg\" alt=\"Open In Colab\"/></a>"
      ]
    },
    {
      "cell_type": "markdown",
      "id": "4dd1d7ef",
      "metadata": {
        "id": "4dd1d7ef"
      },
      "source": [
        "## Timeline\n",
        "\n",
        "### 1. Import library\n",
        "### 2. Load Data\n",
        "### 3. Filtering News Data\n",
        "### 4. Preprocessing News Data\n",
        "### 5. Preprocessing Numeric Data"
      ]
    },
    {
      "cell_type": "markdown",
      "id": "5987c237",
      "metadata": {
        "id": "5987c237"
      },
      "source": [
        "### 1. Import library"
      ]
    },
    {
      "cell_type": "code",
      "execution_count": 1,
      "id": "d3c6e5ca",
      "metadata": {
        "colab": {
          "base_uri": "https://localhost:8080/"
        },
        "id": "d3c6e5ca",
        "outputId": "818e8e46-a56d-4c55-aa7d-34e1f87cd086"
      },
      "outputs": [
        {
          "output_type": "stream",
          "name": "stdout",
          "text": [
            "Drive already mounted at /content/drive; to attempt to forcibly remount, call drive.mount(\"/content/drive\", force_remount=True).\n",
            "Requirement already satisfied: konlpy in /usr/local/lib/python3.10/dist-packages (0.6.0)\n",
            "Requirement already satisfied: JPype1>=0.7.0 in /usr/local/lib/python3.10/dist-packages (from konlpy) (1.4.1)\n",
            "Requirement already satisfied: lxml>=4.1.0 in /usr/local/lib/python3.10/dist-packages (from konlpy) (4.9.3)\n",
            "Requirement already satisfied: numpy>=1.6 in /usr/local/lib/python3.10/dist-packages (from konlpy) (1.23.5)\n",
            "Requirement already satisfied: packaging in /usr/local/lib/python3.10/dist-packages (from JPype1>=0.7.0->konlpy) (23.2)\n"
          ]
        }
      ],
      "source": [
        "# 구글 드라이브 마운트\n",
        "from google.colab import drive\n",
        "drive.mount(\"/content/drive\")\n",
        "\n",
        "# 모듈 설치\n",
        "!pip install konlpy\n",
        "# 데이터 처리 모듈\n",
        "import pandas as pd\n",
        "import copy\n",
        "import re\n",
        "import math\n",
        "import json\n",
        "import requests\n",
        "import urllib.request\n",
        "from tqdm import tqdm\n",
        "import datetime\n",
        "import time\n",
        "import os\n",
        "# 텍스트 관련 모듈\n",
        "from konlpy.tag import Okt\n",
        "okt = Okt()\n",
        "from konlpy.tag import *\n",
        "import nltk\n",
        "# 전처리 모듈\n",
        "from sklearn.preprocessing import MinMaxScaler\n",
        "#시각화 모듈\n",
        "import matplotlib.pyplot as plt\n",
        "import seaborn as sns"
      ]
    },
    {
      "cell_type": "markdown",
      "source": [
        "### 2. Load Data"
      ],
      "metadata": {
        "id": "tL9kXqpHG5vM"
      },
      "id": "tL9kXqpHG5vM"
    },
    {
      "cell_type": "code",
      "source": [
        "class LoadGoogleDriveData():\n",
        "  def __init__(self, data = None):\n",
        "    self.data = data\n",
        "\n",
        "  def loadData(self, file_path: str, file_name_extension,\n",
        "               columnTF: bool, unicode: str) -> pd.DataFrame():\n",
        "    self.data = pd.read_csv(os.path.join(file_path + file_name_extension),\n",
        "                            index_col = columnTF,\n",
        "                            sep = \",\",\n",
        "                            na_values = \"NaN\",\n",
        "                            encoding = unicode)\n",
        "    return self.data\n",
        "\n",
        "  def loadTxTData(self, file_path: str, file_name_extension,\n",
        "               columnTF: bool, unicode: str) -> pd.DataFrame():\n",
        "    self.data = pd.read_csv(os.path.join(file_path + file_name_extension),\n",
        "                            index_col = columnTF,\n",
        "                            sep = \"|\",\n",
        "                            na_values = \"NaN\",\n",
        "                            encoding = unicode)\n",
        "    return self.data\n",
        "\n",
        "  def loadExcelData(self, file_path: str, file_name_extension,\n",
        "               columnTF: bool) -> pd.DataFrame():\n",
        "    self.data = pd.read_excel(os.path.join(file_path + file_name_extension),\n",
        "                              index_col = columnTF)\n",
        "    return self.data\n",
        "\n",
        "  # 용량이 큰 csv 파일 읽어오기(fopen - fread와 유사한 방식)\n",
        "  def loadDataWithChunking(self, file_path: str, file_name_extension,\n",
        "                           chunking_row_num: int, columnTF: bool, unicode: str) -> pd.DataFrame():\n",
        "    chunkdata = pd.read_csv(os.path.join(file_path + file_name_extension),\n",
        "                            chunksize = chunking_row_num,\n",
        "                            index_col = columnTF,\n",
        "                            sep = \",\",\n",
        "                            na_values = \"NaN\",\n",
        "                            encoding = unicode)\n",
        "    self.data = list(chunkdata)\n",
        "    self.data = pd.concat(self.data)\n",
        "\n",
        "    return self.data"
      ],
      "metadata": {
        "id": "3Ru5C4tcG6ZF"
      },
      "id": "3Ru5C4tcG6ZF",
      "execution_count": 3,
      "outputs": []
    },
    {
      "cell_type": "code",
      "source": [
        "mountInstance = LoadGoogleDriveData()"
      ],
      "metadata": {
        "id": "vLmC6g3OHTZU"
      },
      "id": "vLmC6g3OHTZU",
      "execution_count": 4,
      "outputs": []
    },
    {
      "cell_type": "markdown",
      "source": [
        "- load stopwrods data"
      ],
      "metadata": {
        "id": "dA6vot9GUqd5"
      },
      "id": "dA6vot9GUqd5"
    },
    {
      "cell_type": "code",
      "execution_count": 5,
      "id": "2991f66f",
      "metadata": {
        "id": "2991f66f"
      },
      "outputs": [],
      "source": [
        "with open('/content/drive/MyDrive/산업 AI 캡스톤/DATA/stopwords.txt', 'r', encoding='utf-8') as f:\n",
        "    stopwords = f.readlines() # 파일을 읽어서 각 줄을 리스트의 요소로 저장(줄바꿈 문자로 저장)\n",
        "stopwords = [x.replace('\\n','') for x in stopwords] # stopword 파일의 줄바꿈 문자 제거"
      ]
    },
    {
      "cell_type": "markdown",
      "source": [
        "- load numeric data"
      ],
      "metadata": {
        "id": "wP7-ik6uUuwn"
      },
      "id": "wP7-ik6uUuwn"
    },
    {
      "cell_type": "code",
      "source": [
        "total_kospi = mountInstance.loadData(\n",
        "            file_path = '/content/drive/MyDrive/산업 AI 캡스톤/DATA/Stock Index Data/',\n",
        "            file_name_extension = \"total_kospi.csv\",\n",
        "            unicode = 'utf-8-sig', columnTF = False)\n",
        "total_kosdaq = mountInstance.loadData(\n",
        "            file_path = '/content/drive/MyDrive/산업 AI 캡스톤/DATA/Stock Index Data/',\n",
        "            file_name_extension = \"total_kosdaq.csv\",\n",
        "            unicode = 'utf-8-sig', columnTF = False)\n",
        "Stock_Open_Date = mountInstance.loadData(\n",
        "            file_path = '/content/drive/MyDrive/산업 AI 캡스톤/DATA/',\n",
        "            file_name_extension = \"Stock Open Date.csv\",\n",
        "            unicode = 'utf-8-sig', columnTF = False)"
      ],
      "metadata": {
        "id": "tA60Y2d2UYP4"
      },
      "id": "tA60Y2d2UYP4",
      "execution_count": 6,
      "outputs": []
    },
    {
      "cell_type": "markdown",
      "source": [
        "### 3. Filtering News Data"
      ],
      "metadata": {
        "id": "5nNKEOmpSGuo"
      },
      "id": "5nNKEOmpSGuo"
    },
    {
      "cell_type": "code",
      "source": [
        "def filtering_news_data(start_date, end_date, keyword):\n",
        "    for date in pd.date_range(start_date, end_date, freq='M'):\n",
        "        # Read the CSV file\n",
        "        news_data = mountInstance.loadData(\n",
        "            file_path = '/content/drive/MyDrive/산업 AI 캡스톤/DATA/Original_News_Data/',\n",
        "            file_name_extension = f\"경제면_금융섹터_기사({date.strftime('%Y%m')}).csv\",\n",
        "            unicode = 'utf-8-sig', columnTF = False)\n",
        "\n",
        "        # Drop null values\n",
        "        news_data = news_data.dropna()\n",
        "\n",
        "        # Filtering news : 행 필터링\n",
        "        # news_data = news_data[news_data['content'].str.contains('코스피|코스피지수|KOSPI|kospi|Kospi|코스피200|Kospi지수|KOSPI지수|KOSPI200|kospi200')]\n",
        "        news_data = news_data[news_data['content'].str.contains('코스닥|코스닥지수|KOSDAQ|kosdaq|Kosdaq|코스닥|Kosdaq지수|KOSDAQ지수')]\n",
        "\n",
        "        # Generate the file name\n",
        "        file_name = f\"/content/drive/MyDrive/산업 AI 캡스톤/DATA/Filtering_News_Data/{keyword}_Filtering_News_Data/news_{date.strftime('%Y%m')}_{keyword}.csv\"\n",
        "\n",
        "        # Save the filtered data to a new CSV file\n",
        "        news_data.to_csv(file_name, encoding='utf-8-sig', index=False)\n",
        "\n",
        "        # Display the first few rows of the filtered data\n",
        "        print(f\"First few rows of {file_name}, \" \"Rows number : \", len(news_data) )\n",
        "        print()"
      ],
      "metadata": {
        "id": "sleFzOwFSG1m"
      },
      "id": "sleFzOwFSG1m",
      "execution_count": 20,
      "outputs": []
    },
    {
      "cell_type": "markdown",
      "source": [
        "- Filtering : Kospi"
      ],
      "metadata": {
        "id": "OiOzmNPpSG5e"
      },
      "id": "OiOzmNPpSG5e"
    },
    {
      "cell_type": "code",
      "source": [
        "start_date = '2020-01'\n",
        "end_date = '2023-06'\n",
        "keyword = 'Kospi'\n",
        "filtering_news_data(start_date, end_date, keyword)"
      ],
      "metadata": {
        "id": "ziiTeHIJSTeU"
      },
      "id": "ziiTeHIJSTeU",
      "execution_count": null,
      "outputs": []
    },
    {
      "cell_type": "markdown",
      "source": [
        "- Filtering : Kosdaq"
      ],
      "metadata": {
        "id": "AzrhKf5xSXVr"
      },
      "id": "AzrhKf5xSXVr"
    },
    {
      "cell_type": "code",
      "source": [
        "start_date = '2020-01'\n",
        "end_date = '2023-06'\n",
        "keyword = 'Kosdaq'\n",
        "filtering_news_data(start_date, end_date, keyword)"
      ],
      "metadata": {
        "id": "UeOYx9-nSXar"
      },
      "id": "UeOYx9-nSXar",
      "execution_count": null,
      "outputs": []
    },
    {
      "cell_type": "code",
      "source": [
        "# kospi data 수\n",
        "kospi_data_len = 329+388+1293+265+215+269+282+436+340+347+535+498+997+597+544+434+479+557+390+469+425+492+584+508+606+387+397+424+593+563+445+586+408+405+423+302+349+458+346+302\n",
        "# kosdaq data 수\n",
        "kosdaq_data_len = 244+303+1031+177+180+216+220+318+306+246+365+338+521+435+373+272+373+365+256+284+314+321+440+399+510+266+275+248+274+374+344+308+403+332+363+329+252+279+399+331+307\n",
        "print('kospi_data_len : ', kospi_data_len)\n",
        "print('kosdaq_data_len : ', kosdaq_data_len)"
      ],
      "metadata": {
        "colab": {
          "base_uri": "https://localhost:8080/"
        },
        "id": "5BrQELZUggRR",
        "outputId": "38c7e3a2-0864-4953-ae7b-e799bfb7e141"
      },
      "id": "5BrQELZUggRR",
      "execution_count": 24,
      "outputs": [
        {
          "output_type": "stream",
          "name": "stdout",
          "text": [
            "kospi_data_len :  18667\n",
            "kosdaq_data_len :  13891\n"
          ]
        }
      ]
    },
    {
      "cell_type": "markdown",
      "id": "cf164051",
      "metadata": {
        "id": "cf164051"
      },
      "source": [
        "### 4. Preprocessing News Data"
      ]
    },
    {
      "cell_type": "code",
      "execution_count": null,
      "id": "64641c67",
      "metadata": {
        "id": "64641c67"
      },
      "outputs": [],
      "source": [
        "def preprocess_news_data(start_date, end_date, keyword):\n",
        "    for date in pd.date_range(start_date, end_date, freq='M'):\n",
        "        # Read the CSV file\n",
        "        file_path = f'/content/drive/MyDrive/산업 AI 캡스톤/DATA/Filtering_News_Data/{keyword}_Filtering_News_Data/'\n",
        "        file_name = f\"news_{date.strftime('%Y%m')}_{keyword}.csv\"\n",
        "        news_data = mountInstance.loadData(file_path=file_path, file_name_extension=file_name, unicode='utf-8-sig', columnTF=False)\n",
        "\n",
        "        # 주식 시장이 열리는 날짜만 사용\n",
        "        news_data = news_data[news_data['pubdate'].astype(str).isin(Stock_Open_Date['Date'].astype(str))]\n",
        "\n",
        "        # Cleaning\n",
        "        regex = r'[^\\w\\s]'\n",
        "        news_data['clean_content'] = news_data['content'].apply(lambda x: re.sub(regex, '', str(x)))\n",
        "\n",
        "        # Tokenization & Pos Tagging\n",
        "        pos_tag = []\n",
        "        for _, row in tqdm(news_data.iterrows()):\n",
        "            news_text = row['clean_content']\n",
        "            tokens_ko = okt.pos(news_text)\n",
        "            pos_tag.append(tokens_ko)\n",
        "\n",
        "        # Normalization\n",
        "        normalization_li = []\n",
        "        for pos in pos_tag:\n",
        "            in_li = []\n",
        "            for ele in pos:\n",
        "                if ele[1] in ['Josa', 'Suffix']:\n",
        "                    continue\n",
        "                in_li.append(ele[0])\n",
        "            normalization_li.append(in_li)\n",
        "\n",
        "        # Stopword Removal\n",
        "        tokens = normalization_li\n",
        "        token_stop = []\n",
        "        for token in tokens:\n",
        "            in_li = []\n",
        "            for tok in token:\n",
        "                if len(tok) > 1 and tok not in stopwords:\n",
        "                    in_li.append(tok)\n",
        "            token_stop.append(in_li)\n",
        "\n",
        "        # Data save\n",
        "        token_df = []\n",
        "        for token in token_stop:\n",
        "            token_join = ' '.join(token)\n",
        "            token_df.append(token_join)\n",
        "\n",
        "        # Create DataFrame for preprocessed context\n",
        "        news_data['preprocess_context'] = token_df\n",
        "\n",
        "        # Generate the file name\n",
        "        file_name = f\"/content/drive/MyDrive/산업 AI 캡스톤/DATA/Preprocessing_Data/{keyword}_Preprocessing_News_Data/news_preprocess_{date.strftime('%Y%m')}_kospi.csv\"\n",
        "\n",
        "        # Save the preprocessed data to a new CSV file\n",
        "        news_data.to_csv(file_name, encoding='utf-8-sig', index=False)"
      ]
    },
    {
      "cell_type": "markdown",
      "id": "7383e4e6",
      "metadata": {
        "id": "7383e4e6"
      },
      "source": [
        "- 4-1. Preprocessing : Kospi news data"
      ]
    },
    {
      "cell_type": "code",
      "source": [
        "start_date = '2023-06'\n",
        "end_date = '2023-07'\n",
        "keyword = 'Kospi'\n",
        "preprocess_news_data(start_date, end_date, keyword)"
      ],
      "metadata": {
        "id": "f3a701bc"
      },
      "id": "f3a701bc",
      "execution_count": null,
      "outputs": []
    },
    {
      "cell_type": "markdown",
      "id": "071cd30e",
      "metadata": {
        "id": "071cd30e"
      },
      "source": [
        "- 4-2. Preprocessing : Kosdaq news data"
      ]
    },
    {
      "cell_type": "code",
      "source": [
        "start_date = '2020-01'\n",
        "end_date = '2023-07'\n",
        "keyword = \"Kosdaq\"\n",
        "preprocess_news_data(start_date, end_date, keyword)"
      ],
      "metadata": {
        "id": "e8a0f1dc"
      },
      "id": "e8a0f1dc",
      "execution_count": null,
      "outputs": []
    },
    {
      "cell_type": "code",
      "source": [
        "file_path = '/content/drive/MyDrive/산업 AI 캡스톤/DATA/Preprocessing_Data/Kospi_Preprocessing_News_Data/'\n",
        "file_name = \"news_preprocess_202001_kospi.csv\"\n",
        "news_preprocess_202001_kospi = mountInstance.loadData(file_path = file_path, file_name_extension = file_name, unicode='utf-8-sig', columnTF=False)\n",
        "news_preprocess_202001_kospi.head(3)"
      ],
      "metadata": {
        "colab": {
          "base_uri": "https://localhost:8080/",
          "height": 614
        },
        "id": "0I6kGjTGejzv",
        "outputId": "3ac2e146-13f6-42b8-ac33-55f6eadaeafd"
      },
      "id": "0I6kGjTGejzv",
      "execution_count": 7,
      "outputs": [
        {
          "output_type": "execute_result",
          "data": {
            "text/plain": [
              "                              title  \\\n",
              "0       새해 첫날 코스피 1%대 하락..2180선 무너져   \n",
              "1  [시황종합] 첫날 코스피 2170선 후퇴…\"기관 차익실현\"   \n",
              "2          새해 첫 주식·환율시장, 코스피 나홀로 하락   \n",
              "\n",
              "                                                 url   pubdate  \\\n",
              "0  https://n.news.naver.com/mnews/article/469/000...  20200102   \n",
              "1  https://n.news.naver.com/mnews/article/421/000...  20200102   \n",
              "2  https://n.news.naver.com/mnews/article/421/000...  20200102   \n",
              "\n",
              "                                             content  \\\n",
              "0  경자년(庚子年) 새해 첫 거래일인 2일 오후 서울 중구 KEB 하나은행 딜링룸에서 ...   \n",
              "1  코스피 1.02% 내린 2175.17…코스닥 0.63% 오른 674.02원달러 환율...   \n",
              "2  (서울=뉴스1) 민경석 기자 = 2일 오후 서울 중구 KEB 하나은행 딜링룸 전광판...   \n",
              "\n",
              "                                       clean_content  \\\n",
              "0  경자년庚子年 새해 첫 거래일인 2일 오후 서울 중구 KEB 하나은행 딜링룸에서 딜러...   \n",
              "1  코스피 102 내린 217517코스닥 063 오른 67402원달러 환율 17원 오른...   \n",
              "2  서울뉴스1 민경석 기자  2일 오후 서울 중구 KEB 하나은행 딜링룸 전광판에 경자...   \n",
              "\n",
              "                                  preprocess_context  \n",
              "0  경자년 庚子年 새해 거래 일인 2일 오후 서울 중구 KEB 하나은행 딜링룸 딜러 업...  \n",
              "1  코스피 102 내린 217517 코스닥 063 오른 67402원 달러 환율 17원 ...  \n",
              "2  서울 뉴스 민경석 기자 2일 오후 서울 중구 KEB 하나은행 딜링룸 전광판 경자년 ...  "
            ],
            "text/html": [
              "\n",
              "  <div id=\"df-9e1d6a1e-f3c8-4580-9e29-756a97357077\" class=\"colab-df-container\">\n",
              "    <div>\n",
              "<style scoped>\n",
              "    .dataframe tbody tr th:only-of-type {\n",
              "        vertical-align: middle;\n",
              "    }\n",
              "\n",
              "    .dataframe tbody tr th {\n",
              "        vertical-align: top;\n",
              "    }\n",
              "\n",
              "    .dataframe thead th {\n",
              "        text-align: right;\n",
              "    }\n",
              "</style>\n",
              "<table border=\"1\" class=\"dataframe\">\n",
              "  <thead>\n",
              "    <tr style=\"text-align: right;\">\n",
              "      <th></th>\n",
              "      <th>title</th>\n",
              "      <th>url</th>\n",
              "      <th>pubdate</th>\n",
              "      <th>content</th>\n",
              "      <th>clean_content</th>\n",
              "      <th>preprocess_context</th>\n",
              "    </tr>\n",
              "  </thead>\n",
              "  <tbody>\n",
              "    <tr>\n",
              "      <th>0</th>\n",
              "      <td>새해 첫날 코스피 1%대 하락..2180선 무너져</td>\n",
              "      <td>https://n.news.naver.com/mnews/article/469/000...</td>\n",
              "      <td>20200102</td>\n",
              "      <td>경자년(庚子年) 새해 첫 거래일인 2일 오후 서울 중구 KEB 하나은행 딜링룸에서 ...</td>\n",
              "      <td>경자년庚子年 새해 첫 거래일인 2일 오후 서울 중구 KEB 하나은행 딜링룸에서 딜러...</td>\n",
              "      <td>경자년 庚子年 새해 거래 일인 2일 오후 서울 중구 KEB 하나은행 딜링룸 딜러 업...</td>\n",
              "    </tr>\n",
              "    <tr>\n",
              "      <th>1</th>\n",
              "      <td>[시황종합] 첫날 코스피 2170선 후퇴…\"기관 차익실현\"</td>\n",
              "      <td>https://n.news.naver.com/mnews/article/421/000...</td>\n",
              "      <td>20200102</td>\n",
              "      <td>코스피 1.02% 내린 2175.17…코스닥 0.63% 오른 674.02원달러 환율...</td>\n",
              "      <td>코스피 102 내린 217517코스닥 063 오른 67402원달러 환율 17원 오른...</td>\n",
              "      <td>코스피 102 내린 217517 코스닥 063 오른 67402원 달러 환율 17원 ...</td>\n",
              "    </tr>\n",
              "    <tr>\n",
              "      <th>2</th>\n",
              "      <td>새해 첫 주식·환율시장, 코스피 나홀로 하락</td>\n",
              "      <td>https://n.news.naver.com/mnews/article/421/000...</td>\n",
              "      <td>20200102</td>\n",
              "      <td>(서울=뉴스1) 민경석 기자 = 2일 오후 서울 중구 KEB 하나은행 딜링룸 전광판...</td>\n",
              "      <td>서울뉴스1 민경석 기자  2일 오후 서울 중구 KEB 하나은행 딜링룸 전광판에 경자...</td>\n",
              "      <td>서울 뉴스 민경석 기자 2일 오후 서울 중구 KEB 하나은행 딜링룸 전광판 경자년 ...</td>\n",
              "    </tr>\n",
              "  </tbody>\n",
              "</table>\n",
              "</div>\n",
              "    <div class=\"colab-df-buttons\">\n",
              "\n",
              "  <div class=\"colab-df-container\">\n",
              "    <button class=\"colab-df-convert\" onclick=\"convertToInteractive('df-9e1d6a1e-f3c8-4580-9e29-756a97357077')\"\n",
              "            title=\"Convert this dataframe to an interactive table.\"\n",
              "            style=\"display:none;\">\n",
              "\n",
              "  <svg xmlns=\"http://www.w3.org/2000/svg\" height=\"24px\" viewBox=\"0 -960 960 960\">\n",
              "    <path d=\"M120-120v-720h720v720H120Zm60-500h600v-160H180v160Zm220 220h160v-160H400v160Zm0 220h160v-160H400v160ZM180-400h160v-160H180v160Zm440 0h160v-160H620v160ZM180-180h160v-160H180v160Zm440 0h160v-160H620v160Z\"/>\n",
              "  </svg>\n",
              "    </button>\n",
              "\n",
              "  <style>\n",
              "    .colab-df-container {\n",
              "      display:flex;\n",
              "      gap: 12px;\n",
              "    }\n",
              "\n",
              "    .colab-df-convert {\n",
              "      background-color: #E8F0FE;\n",
              "      border: none;\n",
              "      border-radius: 50%;\n",
              "      cursor: pointer;\n",
              "      display: none;\n",
              "      fill: #1967D2;\n",
              "      height: 32px;\n",
              "      padding: 0 0 0 0;\n",
              "      width: 32px;\n",
              "    }\n",
              "\n",
              "    .colab-df-convert:hover {\n",
              "      background-color: #E2EBFA;\n",
              "      box-shadow: 0px 1px 2px rgba(60, 64, 67, 0.3), 0px 1px 3px 1px rgba(60, 64, 67, 0.15);\n",
              "      fill: #174EA6;\n",
              "    }\n",
              "\n",
              "    .colab-df-buttons div {\n",
              "      margin-bottom: 4px;\n",
              "    }\n",
              "\n",
              "    [theme=dark] .colab-df-convert {\n",
              "      background-color: #3B4455;\n",
              "      fill: #D2E3FC;\n",
              "    }\n",
              "\n",
              "    [theme=dark] .colab-df-convert:hover {\n",
              "      background-color: #434B5C;\n",
              "      box-shadow: 0px 1px 3px 1px rgba(0, 0, 0, 0.15);\n",
              "      filter: drop-shadow(0px 1px 2px rgba(0, 0, 0, 0.3));\n",
              "      fill: #FFFFFF;\n",
              "    }\n",
              "  </style>\n",
              "\n",
              "    <script>\n",
              "      const buttonEl =\n",
              "        document.querySelector('#df-9e1d6a1e-f3c8-4580-9e29-756a97357077 button.colab-df-convert');\n",
              "      buttonEl.style.display =\n",
              "        google.colab.kernel.accessAllowed ? 'block' : 'none';\n",
              "\n",
              "      async function convertToInteractive(key) {\n",
              "        const element = document.querySelector('#df-9e1d6a1e-f3c8-4580-9e29-756a97357077');\n",
              "        const dataTable =\n",
              "          await google.colab.kernel.invokeFunction('convertToInteractive',\n",
              "                                                    [key], {});\n",
              "        if (!dataTable) return;\n",
              "\n",
              "        const docLinkHtml = 'Like what you see? Visit the ' +\n",
              "          '<a target=\"_blank\" href=https://colab.research.google.com/notebooks/data_table.ipynb>data table notebook</a>'\n",
              "          + ' to learn more about interactive tables.';\n",
              "        element.innerHTML = '';\n",
              "        dataTable['output_type'] = 'display_data';\n",
              "        await google.colab.output.renderOutput(dataTable, element);\n",
              "        const docLink = document.createElement('div');\n",
              "        docLink.innerHTML = docLinkHtml;\n",
              "        element.appendChild(docLink);\n",
              "      }\n",
              "    </script>\n",
              "  </div>\n",
              "\n",
              "\n",
              "<div id=\"df-0dd07d27-350d-4b6f-b8f6-c99673161c72\">\n",
              "  <button class=\"colab-df-quickchart\" onclick=\"quickchart('df-0dd07d27-350d-4b6f-b8f6-c99673161c72')\"\n",
              "            title=\"Suggest charts.\"\n",
              "            style=\"display:none;\">\n",
              "\n",
              "<svg xmlns=\"http://www.w3.org/2000/svg\" height=\"24px\"viewBox=\"0 0 24 24\"\n",
              "     width=\"24px\">\n",
              "    <g>\n",
              "        <path d=\"M19 3H5c-1.1 0-2 .9-2 2v14c0 1.1.9 2 2 2h14c1.1 0 2-.9 2-2V5c0-1.1-.9-2-2-2zM9 17H7v-7h2v7zm4 0h-2V7h2v10zm4 0h-2v-4h2v4z\"/>\n",
              "    </g>\n",
              "</svg>\n",
              "  </button>\n",
              "\n",
              "<style>\n",
              "  .colab-df-quickchart {\n",
              "      --bg-color: #E8F0FE;\n",
              "      --fill-color: #1967D2;\n",
              "      --hover-bg-color: #E2EBFA;\n",
              "      --hover-fill-color: #174EA6;\n",
              "      --disabled-fill-color: #AAA;\n",
              "      --disabled-bg-color: #DDD;\n",
              "  }\n",
              "\n",
              "  [theme=dark] .colab-df-quickchart {\n",
              "      --bg-color: #3B4455;\n",
              "      --fill-color: #D2E3FC;\n",
              "      --hover-bg-color: #434B5C;\n",
              "      --hover-fill-color: #FFFFFF;\n",
              "      --disabled-bg-color: #3B4455;\n",
              "      --disabled-fill-color: #666;\n",
              "  }\n",
              "\n",
              "  .colab-df-quickchart {\n",
              "    background-color: var(--bg-color);\n",
              "    border: none;\n",
              "    border-radius: 50%;\n",
              "    cursor: pointer;\n",
              "    display: none;\n",
              "    fill: var(--fill-color);\n",
              "    height: 32px;\n",
              "    padding: 0;\n",
              "    width: 32px;\n",
              "  }\n",
              "\n",
              "  .colab-df-quickchart:hover {\n",
              "    background-color: var(--hover-bg-color);\n",
              "    box-shadow: 0 1px 2px rgba(60, 64, 67, 0.3), 0 1px 3px 1px rgba(60, 64, 67, 0.15);\n",
              "    fill: var(--button-hover-fill-color);\n",
              "  }\n",
              "\n",
              "  .colab-df-quickchart-complete:disabled,\n",
              "  .colab-df-quickchart-complete:disabled:hover {\n",
              "    background-color: var(--disabled-bg-color);\n",
              "    fill: var(--disabled-fill-color);\n",
              "    box-shadow: none;\n",
              "  }\n",
              "\n",
              "  .colab-df-spinner {\n",
              "    border: 2px solid var(--fill-color);\n",
              "    border-color: transparent;\n",
              "    border-bottom-color: var(--fill-color);\n",
              "    animation:\n",
              "      spin 1s steps(1) infinite;\n",
              "  }\n",
              "\n",
              "  @keyframes spin {\n",
              "    0% {\n",
              "      border-color: transparent;\n",
              "      border-bottom-color: var(--fill-color);\n",
              "      border-left-color: var(--fill-color);\n",
              "    }\n",
              "    20% {\n",
              "      border-color: transparent;\n",
              "      border-left-color: var(--fill-color);\n",
              "      border-top-color: var(--fill-color);\n",
              "    }\n",
              "    30% {\n",
              "      border-color: transparent;\n",
              "      border-left-color: var(--fill-color);\n",
              "      border-top-color: var(--fill-color);\n",
              "      border-right-color: var(--fill-color);\n",
              "    }\n",
              "    40% {\n",
              "      border-color: transparent;\n",
              "      border-right-color: var(--fill-color);\n",
              "      border-top-color: var(--fill-color);\n",
              "    }\n",
              "    60% {\n",
              "      border-color: transparent;\n",
              "      border-right-color: var(--fill-color);\n",
              "    }\n",
              "    80% {\n",
              "      border-color: transparent;\n",
              "      border-right-color: var(--fill-color);\n",
              "      border-bottom-color: var(--fill-color);\n",
              "    }\n",
              "    90% {\n",
              "      border-color: transparent;\n",
              "      border-bottom-color: var(--fill-color);\n",
              "    }\n",
              "  }\n",
              "</style>\n",
              "\n",
              "  <script>\n",
              "    async function quickchart(key) {\n",
              "      const quickchartButtonEl =\n",
              "        document.querySelector('#' + key + ' button');\n",
              "      quickchartButtonEl.disabled = true;  // To prevent multiple clicks.\n",
              "      quickchartButtonEl.classList.add('colab-df-spinner');\n",
              "      try {\n",
              "        const charts = await google.colab.kernel.invokeFunction(\n",
              "            'suggestCharts', [key], {});\n",
              "      } catch (error) {\n",
              "        console.error('Error during call to suggestCharts:', error);\n",
              "      }\n",
              "      quickchartButtonEl.classList.remove('colab-df-spinner');\n",
              "      quickchartButtonEl.classList.add('colab-df-quickchart-complete');\n",
              "    }\n",
              "    (() => {\n",
              "      let quickchartButtonEl =\n",
              "        document.querySelector('#df-0dd07d27-350d-4b6f-b8f6-c99673161c72 button');\n",
              "      quickchartButtonEl.style.display =\n",
              "        google.colab.kernel.accessAllowed ? 'block' : 'none';\n",
              "    })();\n",
              "  </script>\n",
              "</div>\n",
              "    </div>\n",
              "  </div>\n"
            ]
          },
          "metadata": {},
          "execution_count": 7
        }
      ]
    },
    {
      "cell_type": "markdown",
      "source": [
        "### 5. Preprocessing Numeric Data"
      ],
      "metadata": {
        "id": "sodTjMLgS51U"
      },
      "id": "sodTjMLgS51U"
    },
    {
      "cell_type": "code",
      "source": [
        "def preprocess_numeric_data(df):\n",
        "\n",
        "    # 데이터들 소수점 3자리까지 조절\n",
        "    df = df.round(3)\n",
        "\n",
        "    # 종가들을 제외하고 스케일링을 진행하기위해서 우선 칼럼들의 이름을 뽑아내기\n",
        "    df_names = df.columns.tolist()\n",
        "\n",
        "    # 종가 열(Kospi_close, Kosdaq_close)을 데이터프레임에서 제외\n",
        "    col_to_drop = [col for col in df.columns if 'Kospi_close' in col or 'Kosdaq_close' in col]\n",
        "    df_col = df.columns.tolist()\n",
        "    # 날짜 열(Date)을 데이터프레임에서 제외\n",
        "    df_col.remove('Date')\n",
        "    x_col = [item for item in df_col if item not in col_to_drop]\n",
        "\n",
        "    # MinMax Scaling 적용\n",
        "    columns_to_scale = x_col  # 스케일링을 적용할 열 목록\n",
        "    df[columns_to_scale] = MinMaxScaler().fit_transform(df[columns_to_scale])\n",
        "\n",
        "    return df"
      ],
      "metadata": {
        "id": "Wy2LxHpviZP8"
      },
      "id": "Wy2LxHpviZP8",
      "execution_count": 8,
      "outputs": []
    },
    {
      "cell_type": "markdown",
      "source": [
        "\n",
        "\n",
        "```\n",
        "#데이터들 소수점 3자리까지 조절\n",
        "total_kospi = total_kospi.round(3)\n",
        "total_kosdaq = total_kosdaq.round(3)\n",
        "\n",
        "#종가들을 제외하고 스케일링을 진행하기위해서 우선 칼럼들의 이름을 뽑아내기\n",
        "kospi_names = total_kospi.columns.tolist()\n",
        "kosdaq_names = total_kosdaq.columns.tolist()\n",
        "\n",
        "#각각의 종가 열을 리스트에서 제외\n",
        "kospi_names.remove('Kospi_close')\n",
        "kosdaq_names.remove('kosdaq_close')\n",
        "kospi_names.remove('Date')\n",
        "kosdaq_names.remove('Date')\n",
        "\n",
        "#kospi 데이터 프레임 스케일링 적용\n",
        "kospi_scaled = total_kospi.copy()\n",
        "columns_to_scale = kospi_names  # Min-Max 스케일링을 적용할 열 목록\n",
        "kospi_scaled[columns_to_scale] = MinMaxScaler().fit_transform(kospi_scaled[columns_to_scale])\n",
        "\n",
        "#kosdaq 데이터 프레임 스케일링 적용\n",
        "kosdaq_scaled = total_kosdaq.copy()\n",
        "columns_to_scale = kosdaq_names  # Min-Max 스케일링을 적용할 열 목록\n",
        "kosdaq_scaled[columns_to_scale] = MinMaxScaler().fit_transform(kosdaq_scaled[columns_to_scale])\n",
        "```\n",
        "\n"
      ],
      "metadata": {
        "id": "0Br4JqefdCER"
      },
      "id": "0Br4JqefdCER"
    },
    {
      "cell_type": "markdown",
      "source": [
        "- 5-1. Preprocessing : Kospi neumeric data"
      ],
      "metadata": {
        "id": "t0TvzFWJil_D"
      },
      "id": "t0TvzFWJil_D"
    },
    {
      "cell_type": "code",
      "source": [
        "neumeric_preprocess_kospi = preprocess_numeric_data(total_kospi)\n",
        "# neumeric_preprocess_kospi.to_csv(\"/content/drive/MyDrive/산업 AI 캡스톤/DATA/Preprocessing_Data/Preprocessing_Neumeric_Data/neumeric_preprocess_kospi.csv\", encoding='utf-8-sig', index=False)"
      ],
      "metadata": {
        "id": "ouAvn5Uribcf"
      },
      "id": "ouAvn5Uribcf",
      "execution_count": 9,
      "outputs": []
    },
    {
      "cell_type": "markdown",
      "source": [
        "- 5-2. Preprocessing : Kosdaq neumeric data"
      ],
      "metadata": {
        "id": "aaPAgZkpj9Ix"
      },
      "id": "aaPAgZkpj9Ix"
    },
    {
      "cell_type": "code",
      "source": [
        "neumeric_preprocess_kosdaq = preprocess_numeric_data(total_kosdaq)\n",
        "# neumeric_preprocess_kosdaq.to_csv(\"/content/drive/MyDrive/산업 AI 캡스톤/DATA/Preprocessing_Data/Preprocessing_Neumeric_Data/neumeric_preprocess_kosdaq.csv\", encoding='utf-8-sig', index=False)"
      ],
      "metadata": {
        "id": "yxyvW5qvkAal"
      },
      "id": "yxyvW5qvkAal",
      "execution_count": 10,
      "outputs": []
    },
    {
      "cell_type": "code",
      "source": [
        "neumeric_preprocess_kospi.head(3)"
      ],
      "metadata": {
        "id": "wEsD6LB-kDJ9",
        "colab": {
          "base_uri": "https://localhost:8080/",
          "height": 193
        },
        "outputId": "fdb7f958-8e0f-46c2-9e2f-e5a65a85a7c0"
      },
      "id": "wEsD6LB-kDJ9",
      "execution_count": 11,
      "outputs": [
        {
          "output_type": "execute_result",
          "data": {
            "text/plain": [
              "       Date  Kospi_open  Kospi_high  Kospi_low  Kospi_close  Kospi_vol  \\\n",
              "0  20200102    0.396918    0.381014   0.394615      2175.17   0.063453   \n",
              "1  20200103    0.392204    0.381603   0.391140      2176.46   0.106757   \n",
              "2  20200106    0.371664    0.359951   0.382821      2155.07   0.094452   \n",
              "\n",
              "   dji_open  dji_high   dji_low  dji_close  ...  gold_close  gold_vol  \\\n",
              "0  0.543149  0.546881  0.565298   0.564424  ...    0.310484  0.034935   \n",
              "1  0.538309  0.538105  0.558382   0.551577  ...    0.315092  0.141863   \n",
              "2  0.533345  0.537640  0.553946   0.555339  ...    0.304724  0.150331   \n",
              "\n",
              "   oil_open  oil_high   oil_low  oil_close   oil_vol  ko_interest  \\\n",
              "0  0.357855  0.353594  0.370475   0.360653  0.000267         0.25   \n",
              "1  0.377182  0.371250  0.390883   0.378227  0.000003         0.25   \n",
              "2  0.381234  0.375312  0.388716   0.376081  0.000202         0.25   \n",
              "\n",
              "   ko_consumer  ko_real_estate  \n",
              "0     0.055603             1.0  \n",
              "1     0.055603             1.0  \n",
              "2     0.055603             1.0  \n",
              "\n",
              "[3 rows x 37 columns]"
            ],
            "text/html": [
              "\n",
              "  <div id=\"df-9b321505-70eb-458d-b929-5bad71d84824\" class=\"colab-df-container\">\n",
              "    <div>\n",
              "<style scoped>\n",
              "    .dataframe tbody tr th:only-of-type {\n",
              "        vertical-align: middle;\n",
              "    }\n",
              "\n",
              "    .dataframe tbody tr th {\n",
              "        vertical-align: top;\n",
              "    }\n",
              "\n",
              "    .dataframe thead th {\n",
              "        text-align: right;\n",
              "    }\n",
              "</style>\n",
              "<table border=\"1\" class=\"dataframe\">\n",
              "  <thead>\n",
              "    <tr style=\"text-align: right;\">\n",
              "      <th></th>\n",
              "      <th>Date</th>\n",
              "      <th>Kospi_open</th>\n",
              "      <th>Kospi_high</th>\n",
              "      <th>Kospi_low</th>\n",
              "      <th>Kospi_close</th>\n",
              "      <th>Kospi_vol</th>\n",
              "      <th>dji_open</th>\n",
              "      <th>dji_high</th>\n",
              "      <th>dji_low</th>\n",
              "      <th>dji_close</th>\n",
              "      <th>...</th>\n",
              "      <th>gold_close</th>\n",
              "      <th>gold_vol</th>\n",
              "      <th>oil_open</th>\n",
              "      <th>oil_high</th>\n",
              "      <th>oil_low</th>\n",
              "      <th>oil_close</th>\n",
              "      <th>oil_vol</th>\n",
              "      <th>ko_interest</th>\n",
              "      <th>ko_consumer</th>\n",
              "      <th>ko_real_estate</th>\n",
              "    </tr>\n",
              "  </thead>\n",
              "  <tbody>\n",
              "    <tr>\n",
              "      <th>0</th>\n",
              "      <td>20200102</td>\n",
              "      <td>0.396918</td>\n",
              "      <td>0.381014</td>\n",
              "      <td>0.394615</td>\n",
              "      <td>2175.17</td>\n",
              "      <td>0.063453</td>\n",
              "      <td>0.543149</td>\n",
              "      <td>0.546881</td>\n",
              "      <td>0.565298</td>\n",
              "      <td>0.564424</td>\n",
              "      <td>...</td>\n",
              "      <td>0.310484</td>\n",
              "      <td>0.034935</td>\n",
              "      <td>0.357855</td>\n",
              "      <td>0.353594</td>\n",
              "      <td>0.370475</td>\n",
              "      <td>0.360653</td>\n",
              "      <td>0.000267</td>\n",
              "      <td>0.25</td>\n",
              "      <td>0.055603</td>\n",
              "      <td>1.0</td>\n",
              "    </tr>\n",
              "    <tr>\n",
              "      <th>1</th>\n",
              "      <td>20200103</td>\n",
              "      <td>0.392204</td>\n",
              "      <td>0.381603</td>\n",
              "      <td>0.391140</td>\n",
              "      <td>2176.46</td>\n",
              "      <td>0.106757</td>\n",
              "      <td>0.538309</td>\n",
              "      <td>0.538105</td>\n",
              "      <td>0.558382</td>\n",
              "      <td>0.551577</td>\n",
              "      <td>...</td>\n",
              "      <td>0.315092</td>\n",
              "      <td>0.141863</td>\n",
              "      <td>0.377182</td>\n",
              "      <td>0.371250</td>\n",
              "      <td>0.390883</td>\n",
              "      <td>0.378227</td>\n",
              "      <td>0.000003</td>\n",
              "      <td>0.25</td>\n",
              "      <td>0.055603</td>\n",
              "      <td>1.0</td>\n",
              "    </tr>\n",
              "    <tr>\n",
              "      <th>2</th>\n",
              "      <td>20200106</td>\n",
              "      <td>0.371664</td>\n",
              "      <td>0.359951</td>\n",
              "      <td>0.382821</td>\n",
              "      <td>2155.07</td>\n",
              "      <td>0.094452</td>\n",
              "      <td>0.533345</td>\n",
              "      <td>0.537640</td>\n",
              "      <td>0.553946</td>\n",
              "      <td>0.555339</td>\n",
              "      <td>...</td>\n",
              "      <td>0.304724</td>\n",
              "      <td>0.150331</td>\n",
              "      <td>0.381234</td>\n",
              "      <td>0.375312</td>\n",
              "      <td>0.388716</td>\n",
              "      <td>0.376081</td>\n",
              "      <td>0.000202</td>\n",
              "      <td>0.25</td>\n",
              "      <td>0.055603</td>\n",
              "      <td>1.0</td>\n",
              "    </tr>\n",
              "  </tbody>\n",
              "</table>\n",
              "<p>3 rows × 37 columns</p>\n",
              "</div>\n",
              "    <div class=\"colab-df-buttons\">\n",
              "\n",
              "  <div class=\"colab-df-container\">\n",
              "    <button class=\"colab-df-convert\" onclick=\"convertToInteractive('df-9b321505-70eb-458d-b929-5bad71d84824')\"\n",
              "            title=\"Convert this dataframe to an interactive table.\"\n",
              "            style=\"display:none;\">\n",
              "\n",
              "  <svg xmlns=\"http://www.w3.org/2000/svg\" height=\"24px\" viewBox=\"0 -960 960 960\">\n",
              "    <path d=\"M120-120v-720h720v720H120Zm60-500h600v-160H180v160Zm220 220h160v-160H400v160Zm0 220h160v-160H400v160ZM180-400h160v-160H180v160Zm440 0h160v-160H620v160ZM180-180h160v-160H180v160Zm440 0h160v-160H620v160Z\"/>\n",
              "  </svg>\n",
              "    </button>\n",
              "\n",
              "  <style>\n",
              "    .colab-df-container {\n",
              "      display:flex;\n",
              "      gap: 12px;\n",
              "    }\n",
              "\n",
              "    .colab-df-convert {\n",
              "      background-color: #E8F0FE;\n",
              "      border: none;\n",
              "      border-radius: 50%;\n",
              "      cursor: pointer;\n",
              "      display: none;\n",
              "      fill: #1967D2;\n",
              "      height: 32px;\n",
              "      padding: 0 0 0 0;\n",
              "      width: 32px;\n",
              "    }\n",
              "\n",
              "    .colab-df-convert:hover {\n",
              "      background-color: #E2EBFA;\n",
              "      box-shadow: 0px 1px 2px rgba(60, 64, 67, 0.3), 0px 1px 3px 1px rgba(60, 64, 67, 0.15);\n",
              "      fill: #174EA6;\n",
              "    }\n",
              "\n",
              "    .colab-df-buttons div {\n",
              "      margin-bottom: 4px;\n",
              "    }\n",
              "\n",
              "    [theme=dark] .colab-df-convert {\n",
              "      background-color: #3B4455;\n",
              "      fill: #D2E3FC;\n",
              "    }\n",
              "\n",
              "    [theme=dark] .colab-df-convert:hover {\n",
              "      background-color: #434B5C;\n",
              "      box-shadow: 0px 1px 3px 1px rgba(0, 0, 0, 0.15);\n",
              "      filter: drop-shadow(0px 1px 2px rgba(0, 0, 0, 0.3));\n",
              "      fill: #FFFFFF;\n",
              "    }\n",
              "  </style>\n",
              "\n",
              "    <script>\n",
              "      const buttonEl =\n",
              "        document.querySelector('#df-9b321505-70eb-458d-b929-5bad71d84824 button.colab-df-convert');\n",
              "      buttonEl.style.display =\n",
              "        google.colab.kernel.accessAllowed ? 'block' : 'none';\n",
              "\n",
              "      async function convertToInteractive(key) {\n",
              "        const element = document.querySelector('#df-9b321505-70eb-458d-b929-5bad71d84824');\n",
              "        const dataTable =\n",
              "          await google.colab.kernel.invokeFunction('convertToInteractive',\n",
              "                                                    [key], {});\n",
              "        if (!dataTable) return;\n",
              "\n",
              "        const docLinkHtml = 'Like what you see? Visit the ' +\n",
              "          '<a target=\"_blank\" href=https://colab.research.google.com/notebooks/data_table.ipynb>data table notebook</a>'\n",
              "          + ' to learn more about interactive tables.';\n",
              "        element.innerHTML = '';\n",
              "        dataTable['output_type'] = 'display_data';\n",
              "        await google.colab.output.renderOutput(dataTable, element);\n",
              "        const docLink = document.createElement('div');\n",
              "        docLink.innerHTML = docLinkHtml;\n",
              "        element.appendChild(docLink);\n",
              "      }\n",
              "    </script>\n",
              "  </div>\n",
              "\n",
              "\n",
              "<div id=\"df-6c0c1708-8b16-40d4-99b3-fcb506d3820b\">\n",
              "  <button class=\"colab-df-quickchart\" onclick=\"quickchart('df-6c0c1708-8b16-40d4-99b3-fcb506d3820b')\"\n",
              "            title=\"Suggest charts.\"\n",
              "            style=\"display:none;\">\n",
              "\n",
              "<svg xmlns=\"http://www.w3.org/2000/svg\" height=\"24px\"viewBox=\"0 0 24 24\"\n",
              "     width=\"24px\">\n",
              "    <g>\n",
              "        <path d=\"M19 3H5c-1.1 0-2 .9-2 2v14c0 1.1.9 2 2 2h14c1.1 0 2-.9 2-2V5c0-1.1-.9-2-2-2zM9 17H7v-7h2v7zm4 0h-2V7h2v10zm4 0h-2v-4h2v4z\"/>\n",
              "    </g>\n",
              "</svg>\n",
              "  </button>\n",
              "\n",
              "<style>\n",
              "  .colab-df-quickchart {\n",
              "      --bg-color: #E8F0FE;\n",
              "      --fill-color: #1967D2;\n",
              "      --hover-bg-color: #E2EBFA;\n",
              "      --hover-fill-color: #174EA6;\n",
              "      --disabled-fill-color: #AAA;\n",
              "      --disabled-bg-color: #DDD;\n",
              "  }\n",
              "\n",
              "  [theme=dark] .colab-df-quickchart {\n",
              "      --bg-color: #3B4455;\n",
              "      --fill-color: #D2E3FC;\n",
              "      --hover-bg-color: #434B5C;\n",
              "      --hover-fill-color: #FFFFFF;\n",
              "      --disabled-bg-color: #3B4455;\n",
              "      --disabled-fill-color: #666;\n",
              "  }\n",
              "\n",
              "  .colab-df-quickchart {\n",
              "    background-color: var(--bg-color);\n",
              "    border: none;\n",
              "    border-radius: 50%;\n",
              "    cursor: pointer;\n",
              "    display: none;\n",
              "    fill: var(--fill-color);\n",
              "    height: 32px;\n",
              "    padding: 0;\n",
              "    width: 32px;\n",
              "  }\n",
              "\n",
              "  .colab-df-quickchart:hover {\n",
              "    background-color: var(--hover-bg-color);\n",
              "    box-shadow: 0 1px 2px rgba(60, 64, 67, 0.3), 0 1px 3px 1px rgba(60, 64, 67, 0.15);\n",
              "    fill: var(--button-hover-fill-color);\n",
              "  }\n",
              "\n",
              "  .colab-df-quickchart-complete:disabled,\n",
              "  .colab-df-quickchart-complete:disabled:hover {\n",
              "    background-color: var(--disabled-bg-color);\n",
              "    fill: var(--disabled-fill-color);\n",
              "    box-shadow: none;\n",
              "  }\n",
              "\n",
              "  .colab-df-spinner {\n",
              "    border: 2px solid var(--fill-color);\n",
              "    border-color: transparent;\n",
              "    border-bottom-color: var(--fill-color);\n",
              "    animation:\n",
              "      spin 1s steps(1) infinite;\n",
              "  }\n",
              "\n",
              "  @keyframes spin {\n",
              "    0% {\n",
              "      border-color: transparent;\n",
              "      border-bottom-color: var(--fill-color);\n",
              "      border-left-color: var(--fill-color);\n",
              "    }\n",
              "    20% {\n",
              "      border-color: transparent;\n",
              "      border-left-color: var(--fill-color);\n",
              "      border-top-color: var(--fill-color);\n",
              "    }\n",
              "    30% {\n",
              "      border-color: transparent;\n",
              "      border-left-color: var(--fill-color);\n",
              "      border-top-color: var(--fill-color);\n",
              "      border-right-color: var(--fill-color);\n",
              "    }\n",
              "    40% {\n",
              "      border-color: transparent;\n",
              "      border-right-color: var(--fill-color);\n",
              "      border-top-color: var(--fill-color);\n",
              "    }\n",
              "    60% {\n",
              "      border-color: transparent;\n",
              "      border-right-color: var(--fill-color);\n",
              "    }\n",
              "    80% {\n",
              "      border-color: transparent;\n",
              "      border-right-color: var(--fill-color);\n",
              "      border-bottom-color: var(--fill-color);\n",
              "    }\n",
              "    90% {\n",
              "      border-color: transparent;\n",
              "      border-bottom-color: var(--fill-color);\n",
              "    }\n",
              "  }\n",
              "</style>\n",
              "\n",
              "  <script>\n",
              "    async function quickchart(key) {\n",
              "      const quickchartButtonEl =\n",
              "        document.querySelector('#' + key + ' button');\n",
              "      quickchartButtonEl.disabled = true;  // To prevent multiple clicks.\n",
              "      quickchartButtonEl.classList.add('colab-df-spinner');\n",
              "      try {\n",
              "        const charts = await google.colab.kernel.invokeFunction(\n",
              "            'suggestCharts', [key], {});\n",
              "      } catch (error) {\n",
              "        console.error('Error during call to suggestCharts:', error);\n",
              "      }\n",
              "      quickchartButtonEl.classList.remove('colab-df-spinner');\n",
              "      quickchartButtonEl.classList.add('colab-df-quickchart-complete');\n",
              "    }\n",
              "    (() => {\n",
              "      let quickchartButtonEl =\n",
              "        document.querySelector('#df-6c0c1708-8b16-40d4-99b3-fcb506d3820b button');\n",
              "      quickchartButtonEl.style.display =\n",
              "        google.colab.kernel.accessAllowed ? 'block' : 'none';\n",
              "    })();\n",
              "  </script>\n",
              "</div>\n",
              "    </div>\n",
              "  </div>\n"
            ]
          },
          "metadata": {},
          "execution_count": 11
        }
      ]
    },
    {
      "cell_type": "code",
      "source": [
        "#코스피 산점도 그래프\n",
        "sns.set(style=\"ticks\")\n",
        "sns.pairplot(total_kospi, diag_kind=\"kde\")\n",
        "plt.show()"
      ],
      "metadata": {
        "id": "Wg1wvYb4TDzD"
      },
      "id": "Wg1wvYb4TDzD",
      "execution_count": null,
      "outputs": []
    },
    {
      "cell_type": "code",
      "source": [
        "#코스피 박스플랏\n",
        "plt.figure(figsize=(10, 6))  # 그림의 크기 조정 (선택 사항)\n",
        "sns.boxplot(data=total_kospi, orient=\"h\")\n",
        "plt.title(\"박스플랏\")\n",
        "plt.show()"
      ],
      "metadata": {
        "id": "7V3yRKtbTFD2"
      },
      "id": "7V3yRKtbTFD2",
      "execution_count": null,
      "outputs": []
    },
    {
      "cell_type": "code",
      "source": [
        "#코스닥 산점도 그래프\n",
        "sns.set(style=\"ticks\")\n",
        "sns.pairplot(total_kosdaq, diag_kind=\"kde\")\n",
        "plt.show()"
      ],
      "metadata": {
        "id": "EM-5Ymd9S-kJ"
      },
      "id": "EM-5Ymd9S-kJ",
      "execution_count": null,
      "outputs": []
    },
    {
      "cell_type": "code",
      "source": [
        "#코스닥 박스플랏\n",
        "plt.figure(figsize=(10, 6))  # 그림의 크기 조정 (선택 사항)\n",
        "sns.boxplot(data=total_kosdaq, orient=\"h\")\n",
        "plt.title(\"박스플랏\")\n",
        "plt.show()"
      ],
      "metadata": {
        "id": "VUM20MANTDZd"
      },
      "id": "VUM20MANTDZd",
      "execution_count": null,
      "outputs": []
    }
  ],
  "metadata": {
    "kernelspec": {
      "display_name": "textdata",
      "language": "python",
      "name": "textdata"
    },
    "language_info": {
      "codemirror_mode": {
        "name": "ipython",
        "version": 3
      },
      "file_extension": ".py",
      "mimetype": "text/x-python",
      "name": "python",
      "nbconvert_exporter": "python",
      "pygments_lexer": "ipython3",
      "version": "3.8.16"
    },
    "varInspector": {
      "cols": {
        "lenName": 16,
        "lenType": 16,
        "lenVar": 40
      },
      "kernels_config": {
        "python": {
          "delete_cmd_postfix": "",
          "delete_cmd_prefix": "del ",
          "library": "var_list.py",
          "varRefreshCmd": "print(var_dic_list())"
        },
        "r": {
          "delete_cmd_postfix": ") ",
          "delete_cmd_prefix": "rm(",
          "library": "var_list.r",
          "varRefreshCmd": "cat(var_dic_list()) "
        }
      },
      "types_to_exclude": [
        "module",
        "function",
        "builtin_function_or_method",
        "instance",
        "_Feature"
      ],
      "window_display": false
    },
    "colab": {
      "provenance": [],
      "include_colab_link": true
    }
  },
  "nbformat": 4,
  "nbformat_minor": 5
}